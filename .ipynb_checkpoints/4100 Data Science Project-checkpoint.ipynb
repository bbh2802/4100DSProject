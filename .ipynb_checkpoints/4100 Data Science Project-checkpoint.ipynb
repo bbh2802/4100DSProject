{
 "cells": [
  {
   "cell_type": "code",
   "execution_count": null,
   "metadata": {},
   "outputs": [],
   "source": [
    "branch? "
   ]
  },
  {
   "cell_type": "markdown",
   "metadata": {},
   "source": [
    "Twitter Fingers == Trigger Fingers: A Look at Gun Violence"
   ]
  },
  {
   "cell_type": "markdown",
   "metadata": {},
   "source": [
    "We have to first extract the sources from complete_project_dataset, then get the text from it"
   ]
  },
  {
   "cell_type": "code",
   "execution_count": 1,
   "metadata": {},
   "outputs": [],
   "source": [
    "import pandas as pd\n",
    "from bs4 import BeautifulSoup\n",
    "#reads in complete project data\n",
    "gunviolencedataset = pd.read_csv(\"complete_project_dataset\")\n",
    "sourceurl = gunviolencedataset[\"Source\"]\n",
    "\n",
    "#sourceurl[15]"
   ]
  },
  {
   "cell_type": "markdown",
   "metadata": {},
   "source": [
    "The function that takes the source url, goes to the url, reads in the text from that site. "
   ]
  },
  {
   "cell_type": "code",
   "execution_count": 2,
   "metadata": {},
   "outputs": [],
   "source": [
    "def getsourcetext(urlseries):\n",
    "    import urllib.request\n",
    "    from bs4 import BeautifulSoup\n",
    "    #initialize beautifulsoup\n",
    "    soup = BeautifulSoup('''<html> empty </html>''', 'html.parser')\n",
    "    k = len(urlseries)\n",
    "    #textfile = open(\"all text\", \"w+\",  encoding=\"utf-8\")\n",
    "    counter = 0\n",
    "    for k in urlseries:\n",
    "        print(counter)\n",
    "        counter = counter + 1\n",
    "        # here we actually access the website\n",
    "        try:\n",
    "            print(\"opening link\")\n",
    "            html = urllib.request.urlopen(k, [60])\n",
    "            print(\"reading an open link\")\n",
    "            html = html.read()\n",
    "            print(\"decoding an open link\")\n",
    "            htmlfile = html.decode('utf-8')\n",
    "        #need to make exceptions for 404\n",
    "        except Exception as e:\n",
    "            print(str(e))\n",
    "        else:\n",
    "            print(\"made it past try block\")\n",
    "            singlesoup = BeautifulSoup(htmlfile, 'html.parser')\n",
    "            text = singlesoup\n",
    "            #textfile.write(text)\n",
    "            soup.append(singlesoup)\n",
    "    #textfile.close()\n",
    "    return soup"
   ]
  },
  {
   "cell_type": "code",
   "execution_count": null,
   "metadata": {},
   "outputs": [
    {
     "name": "stdout",
     "output_type": "stream",
     "text": [
      "0\n",
      "opening link\n",
      "HTTP Error 404: Not Found\n",
      "1\n",
      "opening link\n",
      "reading an open link\n",
      "decoding an open link\n",
      "made it past try block\n",
      "2\n",
      "opening link\n"
     ]
    }
   ],
   "source": [
    "rawtext = getsourcetext(sourceurl) #as a beautiful soup object\n",
    "\n"
   ]
  },
  {
   "cell_type": "code",
   "execution_count": null,
   "metadata": {},
   "outputs": [],
   "source": [
    "print(soup[0])\n",
    "#add a counter to above just for proof of life"
   ]
  }
 ],
 "metadata": {
  "kernelspec": {
   "display_name": "Python 3",
   "language": "python",
   "name": "python3"
  },
  "language_info": {
   "codemirror_mode": {
    "name": "ipython",
    "version": 3
   },
   "file_extension": ".py",
   "mimetype": "text/x-python",
   "name": "python",
   "nbconvert_exporter": "python",
   "pygments_lexer": "ipython3",
   "version": "3.8.5"
  }
 },
 "nbformat": 4,
 "nbformat_minor": 4
}
