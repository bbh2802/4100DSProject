{
 "cells": [
  {
   "cell_type": "markdown",
   "metadata": {},
   "source": [
    "# Twitter Fingers == Trigger Fingers: A Look at Gun Violence"
   ]
  },
  {
   "cell_type": "markdown",
   "metadata": {},
   "source": [
    "## Data Acquisition and Cleaning Part 1:\n",
    "Data was gathered from one main source, gunviolencearchive.org. Each individual reporting of gun violence comes with sources to prove that it happened, as well as details on the number injured, killed, date, time, and place. The first data acquisition takes these variables, puts them into a dataframe then into csv, as well as finds the source and cleans the links so that they are easily accessible. "
   ]
  },
  {
   "cell_type": "code",
   "execution_count": 1,
   "metadata": {},
   "outputs": [],
   "source": [
    "import pandas as pd\n",
    "import requests\n",
    "import urllib.request\n",
    "from bs4 import BeautifulSoup\n",
    "import re\n",
    "import numpy as np\n",
    "import socket\n",
    "import scipy as sc\n",
    "import datetime\n",
    "import matplotlib\n",
    "import matplotlib.pyplot as plt\n",
    "import statistics\n",
    "import datetime"
   ]
  },
  {
   "cell_type": "markdown",
   "metadata": {},
   "source": [
    "**Functions**"
   ]
  },
  {
   "cell_type": "code",
   "execution_count": 7,
   "metadata": {},
   "outputs": [],
   "source": [
    "def transform_tables(pd_dataframe):\n",
    "    # omit the hyperlink column that will be read as NA values\n",
    "    new_dataframe = pd_dataframe.loc[:,\"Incident ID\":\"# Injured\"]\n",
    "    # rename columns\n",
    "    new_dataframe = new_dataframe.rename(columns = {\"Incident ID\": \"ID\", \"Incident Date\": \"Date\", \n",
    "                                    \"State\": \"State\", \"City Or County\": \"City/County\", \n",
    "                                    \"Address\": \"Address\", \"# Killed\": \"Killed\", \n",
    "                                    \"# Injured\": \"Injured\"})\n",
    "    return new_dataframe"
   ]
  },
  {
   "cell_type": "code",
   "execution_count": 8,
   "metadata": {},
   "outputs": [],
   "source": [
    "def save_html(url, path):\n",
    "    response = requests.get(url)\n",
    "    with open(path, \"wb\") as file:\n",
    "        file.write(response.content)"
   ]
  },
  {
   "cell_type": "code",
   "execution_count": 9,
   "metadata": {},
   "outputs": [],
   "source": [
    "def get_webpages(soup, year):\n",
    "    last_webpage_href = soup.find('a', attrs={'title': \"Go to last page\"})\n",
    "    last_webpage_path = last_webpage_href.get('href')\n",
    "    number_of_other_pages = int(re.findall(r'%s(\\d+)'%\"page=\", last_webpage_path)[0])\n",
    "    if year in range(2014, 2016):\n",
    "        webpage_paths = ['/reports/mass-shootings/'+ str(year)] # initialize with the first page's path\n",
    "    else:\n",
    "        webpage_paths = ['/reports/mass-shooting?year='+ str(year)]\n",
    "    for page_number in range(1, number_of_other_pages + 1):\n",
    "        path = re.sub(str(number_of_other_pages), str(page_number), last_webpage_path)\n",
    "        webpage_paths.append(path)\n",
    "    return webpage_paths"
   ]
  },
  {
   "cell_type": "code",
   "execution_count": 10,
   "metadata": {},
   "outputs": [],
   "source": [
    "def get_news_sources(soup):\n",
    "    news_hrefs = soup.findAll('a', attrs={'href': re.compile(\"^https://|^http://\")})\n",
    "    news_links = [tag.get('href') for tag in news_hrefs if tag.text == \"View Source\"] # get all sources listed on a page\n",
    "    return news_links"
   ]
  },
  {
   "cell_type": "code",
   "execution_count": 11,
   "metadata": {},
   "outputs": [],
   "source": [
    "def remove_nesting(nested_list):\n",
    "    return [i for j in nested_list for i in j]"
   ]
  },
  {
   "cell_type": "markdown",
   "metadata": {},
   "source": [
    "**Acquisition and Cleaning**"
   ]
  },
  {
   "cell_type": "code",
   "execution_count": 12,
   "metadata": {},
   "outputs": [],
   "source": [
    "# get all pages paths\n",
    "\n",
    "web_pages_paths = []\n",
    "for year in range(2014, 2020):\n",
    "    path = \"mass_shooting_html_\"+ str(year)\n",
    "    soup = BeautifulSoup(open(path,'r'), 'html.parser')\n",
    "    web_pages_paths.append(get_webpages(soup, year)) # including the first"
   ]
  },
  {
   "cell_type": "code",
   "execution_count": 13,
   "metadata": {},
   "outputs": [],
   "source": [
    "# save first pages html\n",
    "\n",
    "for year in range(2014, 2020):\n",
    "    if year in range(2014, 2016):\n",
    "        first_page_url = \"https://www.gunviolencearchive.org/reports/mass-shootings/\" + str(year)\n",
    "    else:\n",
    "        first_page_url = \"https://www.gunviolencearchive.org/reports/mass-shooting?year=\" + str(year)\n",
    "    path = \"mass_shooting_html_\"+ str(year) \n",
    "    save_html(first_page_url, path)"
   ]
  },
  {
   "cell_type": "code",
   "execution_count": 14,
   "metadata": {},
   "outputs": [
    {
     "ename": "KeyboardInterrupt",
     "evalue": "",
     "output_type": "error",
     "traceback": [
      "\u001b[1;31m---------------------------------------------------------------------------\u001b[0m",
      "\u001b[1;31mKeyboardInterrupt\u001b[0m                         Traceback (most recent call last)",
      "\u001b[1;32m<ipython-input-14-c9d9a7371b4f>\u001b[0m in \u001b[0;36m<module>\u001b[1;34m\u001b[0m\n\u001b[0;32m      9\u001b[0m         \u001b[0mfilename\u001b[0m \u001b[1;33m=\u001b[0m \u001b[1;34m\"mass_shooting_html_\"\u001b[0m\u001b[1;33m+\u001b[0m \u001b[0mstr\u001b[0m\u001b[1;33m(\u001b[0m\u001b[0myear\u001b[0m\u001b[1;33m)\u001b[0m \u001b[1;33m+\u001b[0m \u001b[1;34m\"_page_\"\u001b[0m \u001b[1;33m+\u001b[0m \u001b[0mstr\u001b[0m\u001b[1;33m(\u001b[0m\u001b[0mpage_index\u001b[0m\u001b[1;33m)\u001b[0m\u001b[1;33m\u001b[0m\u001b[1;33m\u001b[0m\u001b[0m\n\u001b[0;32m     10\u001b[0m         \u001b[1;31m#save_html(link, filename)\u001b[0m\u001b[1;33m\u001b[0m\u001b[1;33m\u001b[0m\u001b[1;33m\u001b[0m\u001b[0m\n\u001b[1;32m---> 11\u001b[1;33m         \u001b[0msoup\u001b[0m \u001b[1;33m=\u001b[0m \u001b[0mBeautifulSoup\u001b[0m\u001b[1;33m(\u001b[0m\u001b[0mopen\u001b[0m\u001b[1;33m(\u001b[0m\u001b[0mfilename\u001b[0m\u001b[1;33m,\u001b[0m\u001b[1;34m'r'\u001b[0m\u001b[1;33m)\u001b[0m\u001b[1;33m,\u001b[0m \u001b[1;34m'html.parser'\u001b[0m\u001b[1;33m)\u001b[0m\u001b[1;33m\u001b[0m\u001b[1;33m\u001b[0m\u001b[0m\n\u001b[0m\u001b[0;32m     12\u001b[0m         \u001b[0mthis_page_sources\u001b[0m \u001b[1;33m=\u001b[0m \u001b[0mget_news_sources\u001b[0m\u001b[1;33m(\u001b[0m\u001b[0msoup\u001b[0m\u001b[1;33m)\u001b[0m\u001b[1;33m\u001b[0m\u001b[1;33m\u001b[0m\u001b[0m\n\u001b[0;32m     13\u001b[0m         \u001b[0msources_container\u001b[0m\u001b[1;33m[\u001b[0m\u001b[0myear_index\u001b[0m\u001b[1;33m]\u001b[0m\u001b[1;33m.\u001b[0m\u001b[0mappend\u001b[0m\u001b[1;33m(\u001b[0m\u001b[0mthis_page_sources\u001b[0m\u001b[1;33m)\u001b[0m\u001b[1;33m\u001b[0m\u001b[1;33m\u001b[0m\u001b[0m\n",
      "\u001b[1;32mC:\\ProgramData\\Anaconda3\\lib\\_bootlocale.py\u001b[0m in \u001b[0;36mgetpreferredencoding\u001b[1;34m(do_setlocale)\u001b[0m\n\u001b[0;32m      9\u001b[0m \u001b[1;33m\u001b[0m\u001b[0m\n\u001b[0;32m     10\u001b[0m \u001b[1;32mif\u001b[0m \u001b[0msys\u001b[0m\u001b[1;33m.\u001b[0m\u001b[0mplatform\u001b[0m\u001b[1;33m.\u001b[0m\u001b[0mstartswith\u001b[0m\u001b[1;33m(\u001b[0m\u001b[1;34m\"win\"\u001b[0m\u001b[1;33m)\u001b[0m\u001b[1;33m:\u001b[0m\u001b[1;33m\u001b[0m\u001b[1;33m\u001b[0m\u001b[0m\n\u001b[1;32m---> 11\u001b[1;33m     \u001b[1;32mdef\u001b[0m \u001b[0mgetpreferredencoding\u001b[0m\u001b[1;33m(\u001b[0m\u001b[0mdo_setlocale\u001b[0m\u001b[1;33m=\u001b[0m\u001b[1;32mTrue\u001b[0m\u001b[1;33m)\u001b[0m\u001b[1;33m:\u001b[0m\u001b[1;33m\u001b[0m\u001b[1;33m\u001b[0m\u001b[0m\n\u001b[0m\u001b[0;32m     12\u001b[0m         \u001b[1;32mif\u001b[0m \u001b[0msys\u001b[0m\u001b[1;33m.\u001b[0m\u001b[0mflags\u001b[0m\u001b[1;33m.\u001b[0m\u001b[0mutf8_mode\u001b[0m\u001b[1;33m:\u001b[0m\u001b[1;33m\u001b[0m\u001b[1;33m\u001b[0m\u001b[0m\n\u001b[0;32m     13\u001b[0m             \u001b[1;32mreturn\u001b[0m \u001b[1;34m'UTF-8'\u001b[0m\u001b[1;33m\u001b[0m\u001b[1;33m\u001b[0m\u001b[0m\n",
      "\u001b[1;31mKeyboardInterrupt\u001b[0m: "
     ]
    }
   ],
   "source": [
    "sources_container = np.arange(2014, 2020, 1).tolist()\n",
    "for year_index in range(len(sources_container)):\n",
    "    year = 2014 + year_index\n",
    "    sources_container[year_index] = []\n",
    "    page_index = -1\n",
    "    for path in web_pages_paths[year_index]:\n",
    "        page_index += 1\n",
    "        link = \"https://www.gunviolencearchive.org\" + path\n",
    "        filename = \"mass_shooting_html_\"+ str(year) + \"_page_\" + str(page_index)\n",
    "        #save_html(link, filename)\n",
    "        soup = BeautifulSoup(open(filename,'r'), 'html.parser')\n",
    "        this_page_sources = get_news_sources(soup)\n",
    "        sources_container[year_index].append(this_page_sources) \n",
    "        \n",
    "sources_container[5][8]"
   ]
  },
  {
   "cell_type": "code",
   "execution_count": null,
   "metadata": {},
   "outputs": [],
   "source": [
    "news_2014 = remove_nesting(sources_container[0])\n",
    "news_2015 = remove_nesting(sources_container[1])\n",
    "news_2016 = remove_nesting(sources_container[2])\n",
    "news_2017 = remove_nesting(sources_container[3])\n",
    "news_2018 = remove_nesting(sources_container[4])\n",
    "news_2019 = remove_nesting(sources_container[5])\n",
    "news_2019[:5]"
   ]
  },
  {
   "cell_type": "code",
   "execution_count": null,
   "metadata": {},
   "outputs": [],
   "source": [
    "# get the report tables\n",
    "\n",
    "annual_reports = []\n",
    "for year in range(2014, 2020):\n",
    "    first_page_url = \"https://www.gunviolencearchive.org/reports/mass-shootings/\" + str(year)\n",
    "    csv_file = str(year) + \"_mass_shootings.csv\"\n",
    "    this_year_report = pd.read_csv(csv_file)\n",
    "    cleaned_report = transform_tables(this_year_report)\n",
    "    annual_reports.append(cleaned_report)\n",
    "    "
   ]
  },
  {
   "cell_type": "code",
   "execution_count": null,
   "metadata": {},
   "outputs": [],
   "source": [
    "ms_2014 = annual_reports[0]\n",
    "ms_2015 = annual_reports[1]\n",
    "ms_2016 = annual_reports[2]\n",
    "ms_2017 = annual_reports[3]\n",
    "ms_2018 = annual_reports[4]\n",
    "ms_2019 = annual_reports[5]\n",
    "\n",
    "ms_2019.head()"
   ]
  },
  {
   "cell_type": "code",
   "execution_count": null,
   "metadata": {},
   "outputs": [],
   "source": [
    "ms_2014['Source'] = news_2014\n",
    "ms_2015['Source'] = news_2015\n",
    "ms_2016['Source'] = news_2016\n",
    "try:\n",
    "    ms_2017['Source'] = news_2017\n",
    "except Exception as e:\n",
    "    pass\n",
    "ms_2018['Source'] = news_2018\n",
    "\n",
    "# ms_2019['Source'] = news_2019 \n",
    "# gives error since one row does not have a source listed directly\n",
    "\n",
    "index = news_2019.index(\"https://www.wcvb.com/article/6-people-shot-outside-of-roxbury-party-police-say/28306883\") # index of where it is supposed to be \n",
    "news_2019.insert(index, \"https://fox2now.com/2019/07/07/north-county-residents-on-edge-after-5-adults-found-dead-in-apartment/\")\n",
    "news_2019 = [news_2019[i] for i in range(len(news_2019)) if news_2019[i] != news_2019[i-1]] \n",
    "# in case of re-running the insert code and duplicating\n",
    "\n",
    "ms_2019['Source'] = news_2019 \n",
    "ms_2019[:10]"
   ]
  },
  {
   "cell_type": "code",
   "execution_count": null,
   "metadata": {},
   "outputs": [],
   "source": [
    "merged_data = pd.concat([ms_2014, ms_2015, ms_2016, ms_2017, ms_2018, ms_2019])\n",
    "print(len(merged_data))\n",
    "merged_data.to_csv(path_or_buf = \"complete_project_dataset\") # export as csv file"
   ]
  },
  {
   "cell_type": "markdown",
   "metadata": {},
   "source": [
    "## Data Acquisition Part 2:\n",
    "The second step of the data acquisition process was to access the sources, and find the article text from each source. This allows us to create a second set of data in a text file for analysis of all words from these articles, \"articletext\". "
   ]
  },
  {
   "cell_type": "code",
   "execution_count": null,
   "metadata": {},
   "outputs": [],
   "source": [
    "#reads in complete project data\n",
    "gunviolencedataset = pd.read_csv(\"complete_project_dataset\")\n",
    "sourceurl = gunviolencedataset[\"Source\"] #creates a series of just the source urls"
   ]
  },
  {
   "cell_type": "markdown",
   "metadata": {},
   "source": [
    "The function that takes the source url, goes to the url, reads in the text from that site. The function then writes the text from the \"p\" tag to a text file, so that it can be accessed afterwards. "
   ]
  },
  {
   "cell_type": "code",
   "execution_count": null,
   "metadata": {},
   "outputs": [],
   "source": [
    "def getsourcetext(urlseries):\n",
    "    #initialize beautifulsoup\n",
    "    soup = BeautifulSoup('''<html>  </html>''', 'html.parser') \n",
    "    timeout = 20 #creates a timeout variable w an int\n",
    "    socket.setdefaulttimeout(timeout) #uses timeout to set the socket timeout\n",
    "    dictionary = {}\n",
    "    for k in urlseries: #runs this loop for every entry in the series\n",
    "        try:\n",
    "            html = urllib.request.urlopen(url=k) #opens k website\n",
    "            html = html.read() #reads in website info\n",
    "            htmlfile = html.decode('utf-8') #decodes the info into a new file\n",
    "        #need to make exceptions for 404/403/etc\n",
    "        except Exception as e:\n",
    "            continue\n",
    "        else: #what to do after try block works or doesn't work\n",
    "            singlesoup = BeautifulSoup(htmlfile, 'html.parser') #the variable that holds the data from the article\n",
    "            full_text = \"\"\n",
    "            for n in singlesoup(\"p\"): #finds p tag (the main paragraph of the article)\n",
    "                full_text += n.get_text(strip=True)#we only want the parts of the article that are from the main paragraph\n",
    "        dictionary[k] = full_text  \n",
    "    return dictionary\n",
    "\n",
    "text_dict_of_1000 = getsourcetext(sourceurl[:1000]) # it takes 1 hour to work the first 1000 urls "
   ]
  },
  {
   "cell_type": "code",
   "execution_count": null,
   "metadata": {},
   "outputs": [],
   "source": [
    "# Finalized dataframe and save as csv file\n",
    "full_text_df = pd.DataFrame(list(text_dict_of_1000.items()),\n",
    "                   columns=['Source', 'Text'])\n",
    "merged_1000_df = pd.merge(gunviolencedataset, full_text_df, on = \"Source\")\n",
    "merged_1000_df.to_csv(path_or_buf = \"first_1000_dataset_with_text\") "
   ]
  },
  {
   "cell_type": "markdown",
   "metadata": {},
   "source": [
    "# get the final version of the data by running this code below "
   ]
  },
  {
   "cell_type": "code",
   "execution_count": 2,
   "metadata": {},
   "outputs": [],
   "source": [
    "# Read in the created csv file above\n",
    "imported_df = pd.read_csv(\"first_1000_dataset_with_text\")\n",
    "imported_df['Date'] = imported_df['Date'].apply(lambda x: datetime.datetime.strptime(x,\"%B %d, %Y\"))\n",
    "imported_df = imported_df.sort_values(by = 'Date')\n",
    "no_na = imported_df.dropna()"
   ]
  },
  {
   "cell_type": "code",
   "execution_count": 3,
   "metadata": {},
   "outputs": [
    {
     "name": "stdout",
     "output_type": "stream",
     "text": [
      "[74, 53, 36, 8, 6, 262, 247, 220, 203, 124, 454, 450]\n",
      "554\n",
      "31\n"
     ]
    }
   ],
   "source": [
    "# visually inspection show text with 300 or less characters are not article body\n",
    "from nltk.tokenize import RegexpTokenizer\n",
    "\n",
    "n = 0\n",
    "n1 = 0\n",
    "m = []\n",
    "s = 'string'\n",
    "textseries = no_na[\"Text\"]\n",
    "eliminationlist = [\"©\", \"Terms of Use\", \"theTerms\", \"Terms of Service\", \"Privacy Policy\", \"JavaScript\", \"Policy•CitizensNet\"]\n",
    "tokenizer = RegexpTokenizer('\\s+', gaps=True)\n",
    "indexlist = no_na.index\n",
    "for string in no_na[\"Text\"]:\n",
    "    i = indexlist[n]\n",
    "    i1 = no_na.loc[i].name\n",
    "    if len(string) < 300:\n",
    "        string = tokenizer.tokenize(string)\n",
    "        for word in string:\n",
    "            if (word in eliminationlist):\n",
    "                m.append(i)\n",
    "                break\n",
    "        n1 += 1    \n",
    "    n += 1\n",
    "print(m), print(n), print(n1)\n",
    "cleaned_imported_df = no_na.drop(labels=m, axis=0) "
   ]
  },
  {
   "cell_type": "code",
   "execution_count": null,
   "metadata": {},
   "outputs": [],
   "source": [
    "data = no_na.loc[no_na[\"Text\"].str.len() > 300]\n",
    "data = data.iloc[:, 2:11]\n",
    "\n",
    "print(data.shape)\n",
    "data.head()"
   ]
  },
  {
   "cell_type": "markdown",
   "metadata": {},
   "source": [
    "After scraping from the sources of the first 1000 incidents sorted in chronological order, we have all a total of 523 rows. This is due to various reason pertaining to web update: \n",
    "- urls did not work gives 404 status code\n",
    "- article no longer exist\n",
    "- video content"
   ]
  },
  {
   "cell_type": "markdown",
   "metadata": {},
   "source": [
    "## Exploratory Analysis:\n",
    "After obtaining and cleaning the data, we wanted to look at the statistics and visualization of the data gathered. "
   ]
  },
  {
   "cell_type": "code",
   "execution_count": null,
   "metadata": {},
   "outputs": [],
   "source": [
    "dates = []\n",
    "num_killed = []\n",
    "num_injured = []\n",
    "\n",
    "for row in range(len(data)):\n",
    "    x = data.iloc[row,1]\n",
    "    if x in dates:\n",
    "        num_killed[len(num_killed)-1]+= data.iloc[row,5]\n",
    "        num_injured[len(num_injured)-1]+= data.iloc[row,6]\n",
    "    else:\n",
    "        dates.append(x)\n",
    "        num_killed.append(data.iloc[row,5])\n",
    "        num_injured.append(data.iloc[row,6])\n",
    "        "
   ]
  },
  {
   "cell_type": "code",
   "execution_count": null,
   "metadata": {},
   "outputs": [],
   "source": [
    "plt.plot(dates, num_injured, label = \"People Injured\")\n",
    "plt.plot(dates, num_killed, label = \"People Killed\")\n",
    "\n",
    "# naming the x axis\n",
    "plt.xlabel('Dates')\n",
    "# naming the y axis\n",
    "plt.ylabel('Number of People')\n",
    "# giving a title to my graph\n",
    "plt.title('Number of People Killed or Injured by Guns')\n",
    "  \n",
    "# show a legend on the plot\n",
    "plt.legend()\n",
    "  \n",
    "# function to show the plot\n",
    "plt.show()"
   ]
  },
  {
   "cell_type": "code",
   "execution_count": null,
   "metadata": {},
   "outputs": [],
   "source": [
    "d = {'statistic' : ['mean','median','mode','std','min','max'], \n",
    "     'Number Killed' : [np.mean(num_killed),np.median(num_killed),statistics.mode(num_killed),np.std(num_killed),min(num_killed),max(num_killed)],\n",
    "    'Number Injured' : [np.mean(num_injured),np.median(num_injured),statistics.mode(num_injured),np.std(num_injured),min(num_injured),max(num_injured)]\n",
    "    }\n",
    "\n",
    "stats_of_the_data = pd.DataFrame(data = d)\n",
    "print(stats_of_the_data)"
   ]
  },
  {
   "cell_type": "code",
   "execution_count": null,
   "metadata": {},
   "outputs": [],
   "source": [
    "words = data[\"Text\"].str.split()\n",
    "words = words.map(lambda x: len(x))\n",
    "\n",
    "fig, axs = plt.subplots(1, 2, figsize=(15, 5))\n",
    "axs[0].plot(data[\"Date\"], words)\n",
    "axs[0].set_title(\"Length of Article by Date\")\n",
    "axs[1].hist(words, bins = 50)\n",
    "axs[1].set_title(\"Length of Article Histogram\")\n",
    "plt.show()"
   ]
  },
  {
   "cell_type": "markdown",
   "metadata": {},
   "source": [
    "The length of the article seems to correlate with the trend in the number of injured or killed victims."
   ]
  },
  {
   "cell_type": "code",
   "execution_count": null,
   "metadata": {},
   "outputs": [],
   "source": [
    "from textblob import TextBlob # simple library; sutiable for exploratory analysis\n",
    "def polarity(text):\n",
    "    return TextBlob(text).sentiment.polarity \n",
    "\n",
    "polarity_score = data['Text'].apply(lambda x : polarity(x))\n",
    "\n",
    "fig, axs = plt.subplots(1, 2, figsize=(15, 5))\n",
    "axs[0].plot(data[\"Date\"], polarity_score)\n",
    "axs[0].set_title(\"Polarity Score by Date\")\n",
    "axs[1].hist(polarity_score)\n",
    "axs[1].set_title(\"Polarity Score Histogram\")\n",
    "plt.show()"
   ]
  },
  {
   "cell_type": "markdown",
   "metadata": {},
   "source": [
    "The polarity score distribution determined by TextBlob.sentiment.polarity is centered at 0 with a small deviation. The articles are mostly neutral."
   ]
  },
  {
   "cell_type": "markdown",
   "metadata": {},
   "source": [
    "## Analysis Method Outlines: N-grams and Sentiment Analysis Classification"
   ]
  },
  {
   "cell_type": "markdown",
   "metadata": {},
   "source": [
    "**NLP Analysis:** We wanted to use Natural Language Processing to inspect the relations of words in the articles we find, in the hopes that we can relate fequency of word use and the context that these fequently used words are in to the increase of gun violence in America. To start this the article text extracted must be tokenized (sorted into words), remove the words and punctuation that are too common to be useful, and assess the frequency of the cleaned words. Then ngrams are created of these words to assess the context that the frequent words come in. \n",
    "\n",
    "What remains to be done is connect these results to collective meaning about the articles, and how that relates to gun violence. "
   ]
  },
  {
   "cell_type": "code",
   "execution_count": 9,
   "metadata": {},
   "outputs": [],
   "source": [
    "import nltk\n",
    "from nltk import FreqDist\n",
    "from nltk.tokenize import RegexpTokenizer\n",
    "from nltk.corpus import stopwords\n",
    "import codecs\n",
    "from nltk.tokenize import RegexpTokenizer\n",
    "# make list of stopwords, numbers, and punctuation\n",
    "stopwords = nltk.corpus.stopwords.words('english')\n",
    "capstopwords = [w.title() for w in stopwords]\n",
    "numbers = [\"one\", \"two\", \"three\", \"four\", \"five\", \"six\", \"seven\", \"eight\", \"nine\", \"zero\", \",\", \"'\", \"-\", \"said\", \"2021march\"]\n",
    "stopwords.extend(capstopwords)\n",
    "stopwords.extend(numbers)"
   ]
  },
  {
   "cell_type": "code",
   "execution_count": 16,
   "metadata": {},
   "outputs": [],
   "source": [
    "# keywordstuple_list = []\n",
    "# for article in data[\"Text\"]:\n",
    "#     tokenizer = RegexpTokenizer(r'\\w+')\n",
    "#     articletext = tokenizer.tokenize(article)\n",
    "#     articletext = [word.lower() for word in articletext if word not in stopwords]\n",
    "#     frequency_dist = FreqDist(articletext)\n",
    "#     keywordstuple = frequency_dist.most_common(10)\n",
    "#     keywordstuple_list.append(list(keywordstuple))\n",
    "\n",
    "# keywordstuple_list "
   ]
  },
  {
   "cell_type": "code",
   "execution_count": 7,
   "metadata": {},
   "outputs": [],
   "source": [
    "def uncouplevector(vector):\n",
    "    uncoupledvector = []\n",
    "    for ftuple in vector:\n",
    "        t1 = ftuple[0]\n",
    "        t2 = int(ftuple[1])\n",
    "        uncoupledvector.append(t1)\n",
    "        uncoupledvector.append(t2)\n",
    "    return uncoupledvector\n",
    "\n",
    "def averageuncv(vector, N):\n",
    "    n = 1\n",
    "    for element in vector:\n",
    "        if type(element) == type(0):\n",
    "            element = element/N\n",
    "            vector[n] = element\n",
    "            n += 2\n",
    "    return vector\n",
    "\n",
    "def addtokeyworddf(vector, row):\n",
    "    keyrow = keywordDF.iloc[row]\n",
    "    n = 0\n",
    "    for element in vector:\n",
    "        keyrow[n] = element\n",
    "        n += 1\n",
    "    keywordDF.iloc[row] = keyrow\n",
    "    \n",
    "\n",
    "\n"
   ]
  },
  {
   "cell_type": "code",
   "execution_count": 10,
   "metadata": {},
   "outputs": [
    {
     "name": "stderr",
     "output_type": "stream",
     "text": [
      "<ipython-input-7-89831597ce0d>:23: SettingWithCopyWarning: \n",
      "A value is trying to be set on a copy of a slice from a DataFrame\n",
      "\n",
      "See the caveats in the documentation: https://pandas.pydata.org/pandas-docs/stable/user_guide/indexing.html#returning-a-view-versus-a-copy\n",
      "  keyrow[n] = element\n"
     ]
    },
    {
     "name": "stdout",
     "output_type": "stream",
     "text": [
      "             0         1            2         3          4         5   \\\n",
      "0          erie  0.037736       police  0.037736        man  0.028302   \n",
      "1     shootings  0.035714         shot  0.035714     police  0.026786   \n",
      "2      shooting  0.034653         club  0.024752     police  0.014851   \n",
      "3    wednesday,  0.025000         cook  0.025000  mcmillian  0.025000   \n",
      "4        people  0.015625          los  0.015625    angeles  0.015625   \n",
      "..          ...       ...          ...       ...        ...       ...   \n",
      "537   2021march  0.022599       police  0.016949   cockrell  0.016949   \n",
      "538     victims  0.031348     shooting  0.018809  northwest  0.009404   \n",
      "539      county  0.014553    sheriff’s  0.014553     office  0.014553   \n",
      "540         man  0.020101       police  0.020101   suffered  0.015075   \n",
      "541      family  0.020576  gramiccioni  0.016461       long  0.010288   \n",
      "\n",
      "            6         7            8         9          10        11  \\\n",
      "0     shooting  0.028302        hamot  0.028302       a.m.  0.018868   \n",
      "1           ms  0.017857      jackson  0.017857   saturday  0.017857   \n",
      "2     arrested  0.014851  benchwarmer  0.014851    suspect  0.014851   \n",
      "3      charged  0.016667         ford  0.016667    heights  0.016667   \n",
      "4      tuesday  0.015625         u.s.  0.015625   shooting  0.010417   \n",
      "..         ...       ...          ...       ...        ...       ...   \n",
      "537  vicksburg  0.011299       l.d.’s  0.011299      found  0.011299   \n",
      "538     police  0.009404   miami-dade  0.009404  shooting,  0.009404   \n",
      "539   deputies  0.012474       police  0.010395    officer  0.010395   \n",
      "540    gunshot  0.015075          men  0.010050        bar  0.010050   \n",
      "541   brittany  0.010288  16-year-old  0.008230      first  0.008230   \n",
      "\n",
      "              12        13         14        15        16        17  \\\n",
      "0         sunday  0.018868    morning  0.018868      east  0.018868   \n",
      "1           near  0.017857      m-bar  0.017857    stable  0.017857   \n",
      "2    15-year-old  0.009901     people  0.009901    sports  0.009901   \n",
      "3        dispute  0.016667     county  0.016667   chicago  0.016667   \n",
      "4      according  0.010417     police  0.010417     media  0.010417   \n",
      "..           ...       ...        ...       ...       ...       ...   \n",
      "537   greenville  0.011299        new  0.011299     route  0.011299   \n",
      "538  miami-dade,  0.006270     people  0.006270      shot  0.006270   \n",
      "539         shot  0.008316  apartment  0.008316   douglas  0.008316   \n",
      "540         west  0.010050      north  0.010050   another  0.010050   \n",
      "541        court  0.008230    kologi,  0.008230  teenager  0.006173   \n",
      "\n",
      "            18        19  \n",
      "0      private  0.018868  \n",
      "1          one  0.017857  \n",
      "2        early  0.009901  \n",
      "3    according  0.016667  \n",
      "4      victims  0.010417  \n",
      "..         ...       ...  \n",
      "537      right  0.011299  \n",
      "538       area  0.006270  \n",
      "539     deputy  0.008316  \n",
      "540   multiple  0.010050  \n",
      "541         15  0.006173  \n",
      "\n",
      "[542 rows x 20 columns]\n"
     ]
    }
   ],
   "source": [
    "l = cleaned_imported_df.shape\n",
    "keywordDF = np.zeros((l[0], 20))\n",
    "keywordDF = pd.DataFrame(keywordDF)\n",
    "n=0\n",
    "m=0\n",
    "vsum=[]\n",
    "tokenizer = RegexpTokenizer('\\s+', gaps=True)\n",
    "for index, row in cleaned_imported_df.iterrows():\n",
    "    tokenizedarticle = tokenizer.tokenize(row[\"Text\"])\n",
    "    articletext = [word.lower() for word in tokenizedarticle if word not in stopwords]\n",
    "    frequencydist = FreqDist(articletext)\n",
    "    wordsN = frequencydist.N()\n",
    "    keywords = frequencydist.most_common(10)\n",
    "    keywordvector = uncouplevector(keywords)\n",
    "    averagedkeywords = averageuncv(keywordvector, wordsN)\n",
    "    addtokeyworddf(averagedkeywords, n)\n",
    "    n += 1\n",
    "print(keywordDF)"
   ]
  },
  {
   "cell_type": "code",
   "execution_count": 11,
   "metadata": {},
   "outputs": [
    {
     "data": {
      "text/plain": [
       "police           55\n",
       "shooting         36\n",
       "shot             23\n",
       "people           13\n",
       "man              11\n",
       "                 ..\n",
       "said.the          1\n",
       "second-degree     1\n",
       "resident          1\n",
       "left              1\n",
       "latrent           1\n",
       "Name: 2, Length: 294, dtype: int64"
      ]
     },
     "execution_count": 11,
     "metadata": {},
     "output_type": "execute_result"
    }
   ],
   "source": [
    "firstmostcommonwords = keywordDF[0]\n",
    "firstmostcommonwords.value_counts()\n",
    "secondmostcommondwords = keywordDF[2]\n",
    "secondmostcommondwords.value_counts()\n"
   ]
  },
  {
   "cell_type": "code",
   "execution_count": null,
   "metadata": {},
   "outputs": [],
   "source": [
    "#create a graph/track the most common words (5) in article over time(by month?), what do we see(?)\n",
    "\n",
    "import pandas as pd\n",
    "import requests\n",
    "import urllib.request\n",
    "from bs4 import BeautifulSoup\n",
    "import re\n",
    "import numpy as np\n",
    "import socket\n",
    "import scipy as sc\n",
    "import datetime\n",
    "import matplotlib\n",
    "import matplotlib.pyplot as plt\n",
    "import statistics\n",
    "import datetime"
   ]
  },
  {
   "cell_type": "code",
   "execution_count": null,
   "metadata": {},
   "outputs": [],
   "source": [
    "unigram = pd.read_csv('UnigramFrequencies')\n",
    "\n",
    "words=[]\n",
    "frequencies = []\n",
    "MCW = []\n",
    "\n",
    "def most_frequent(List):\n",
    "    return max(set(List), key = List.count)\n",
    "\n",
    "for x in range(5):\n",
    "    for row in range(len(unigram)):\n",
    "        for column in [8,10,12,14,16,18,20,22,24,26]:\n",
    "            word = unigram.iloc[row,column]\n",
    "            if word not in MCW:\n",
    "                words.append(word)\n",
    "            \n",
    "    MCW.append(most_frequent(words))\n",
    "    words=[]\n",
    "    \n",
    "print(MCW)"
   ]
  },
  {
   "cell_type": "code",
   "execution_count": null,
   "metadata": {},
   "outputs": [],
   "source": [
    "dates = []\n",
    "police_freq = []\n",
    "shooting_freq = []\n",
    "said_freq = []\n",
    "shot_freq = []\n",
    "people_freq = []\n",
    "freq = [police_freq,shooting_freq,said_freq,shot_freq,people_freq]\n",
    "\n",
    "for row in range(len(unigram)):\n",
    "        for column in [8,10,12,14,16,18,20,22,24,26]:\n",
    "            x = datetime.datetime.strptime(unigram.iloc[row,2],\"%Y-%m-%d\")\n",
    "            word = unigram.iloc[row,column]\n",
    "            if x not in dates:\n",
    "                dates.append(x)\n",
    "                for i in range(5):\n",
    "                    if word==MCW[i]:\n",
    "                        freq[i].append(unigram.iloc[row,(column+1)])\n",
    "                    else:\n",
    "                        freq[i].append(0)\n",
    "            else:\n",
    "                for i in range(5):\n",
    "                    if word==MCW[i]:\n",
    "                        freq[i][len(freq[i])-1]+=unigram.iloc[row,(column+1)]"
   ]
  },
  {
   "cell_type": "code",
   "execution_count": 20,
   "metadata": {},
   "outputs": [],
   "source": [
    "plt.plot(dates, police_freq, label = \"Police\")\n",
    "plt.plot(dates, shooting_freq, label = \"Shooting\")\n",
    "plt.plot(dates, said_freq, label = \"Said\")\n",
    "plt.plot(dates, shot_freq, label = \"Shot\")\n",
    "plt.plot(dates, people_freq, label = \"People\")\n",
    "\n",
    "# naming the x axis\n",
    "plt.xlabel('Dates')\n",
    "# naming the y axis\n",
    "plt.ylabel('Frequency of Word')\n",
    "# giving a title to my graph\n",
    "plt.title('Frequency of the Most Common Words per Date')\n",
    "  \n",
    "# show a legend on the plot\n",
    "plt.legend()\n",
    "  \n",
    "# function to show the plot\n",
    "plt.show()"
   ]
  },
  {
   "cell_type": "code",
   "execution_count": null,
   "metadata": {},
   "outputs": [],
   "source": [
    "#create a graph/ look at/for time lag. Does a word's increase over the course of a few days/weeks (n=1,2,3,4,5,6,7) \n",
    "# do we need more data to fill in data enough for the time lag analysis? "
   ]
  },
  {
   "cell_type": "code",
   "execution_count": 15,
   "metadata": {},
   "outputs": [],
   "source": [
    "from nltk.classify.util import apply_features, accuracy as eval_accuracy\n",
    "from nltk.collocations import BigramCollocationFinder\n",
    "from nltk.metrics import (\n",
    "    BigramAssocMeasures,\n",
    "    precision as eval_precision,\n",
    "    recall as eval_recall,\n",
    "    f_measure as eval_f_measure,\n",
    ")\n",
    "bgm    = nltk.collocations.BigramAssocMeasures()\n",
    "bigramDF = np.zeros((l[0], 20))\n",
    "bigramDF = pd.DataFrame(bigramDF)\n",
    "from nltk.probability import FreqDist\n",
    "#ngram analysis of text\n",
    "likelihoodscores = []\n",
    "tuplelist = []"
   ]
  },
  {
   "cell_type": "code",
   "execution_count": null,
   "metadata": {},
   "outputs": [],
   "source": [
    "def bigramofDF(dataframe, column):\n",
    "    from nltk import bigrams\n",
    "    bigramtuples = []\n",
    "    n=0\n",
    "    bigramdict={}\n",
    "    textdata = dataframe[str(column)]\n",
    "    tokenizer = RegexpTokenizer('\\w+|\\$[\\d\\.]+|\\S+', gaps=True)\n",
    "    for row in textdata:\n",
    "        tokenizedarticle = tokenizer.tokenize(row)\n",
    "        tokenizedarticle = [word.lower() for word in tokenizedarticle if word not in stopwords]\n",
    "        bigrams = list(bigrams(tokenizedarticle))\n",
    "        print(bigrams)\n",
    "        bigramfreq = FreqDist(bigrams)\n",
    "        top10bigrams = FreqDist(bigrams).most_common(10)\n",
    "        bigramN = bigramfreq.N()\n",
    "        #adds to a 542/20 database of the most frequent bigrams\n",
    "        addtobigramdf(top10bigrams, n, bigramN)\n",
    "        \n",
    "        article = \"article\" + str(n)\n",
    "        bigrams.extend(article)\n",
    "        article_bigrams = tuple(bigrams)\n",
    "        bigramtuples.append(article_bigrams)\n",
    "        #score = bigrams.score_ngrams(bgm.likelihood_ratio)\n",
    "        #likelihoodscores.append(score)\n",
    "        n +=1 \n",
    "    return bigramtuples\n",
    "    #create a dictionary, key is article#, value is all bigrams\n",
    "    \n",
    "def addtobigramdf(vector, row, N):\n",
    "    keyrow = bigramDF.iloc[row]\n",
    "    n = 0\n",
    "    for element in vector:\n",
    "        keyrow[n] = element[0]\n",
    "        n+=1\n",
    "        keyrow[n] = element[1]/N\n",
    "        n+=1\n",
    "    bigramDF.iloc[row] = keyrow\n",
    "    "
   ]
  },
  {
   "cell_type": "code",
   "execution_count": 22,
   "metadata": {},
   "outputs": [
    {
     "name": "stdout",
     "output_type": "stream",
     "text": [
      "[(' ', ' '), (' ', ' '), (' ', ' '), (' ', ' '), (' ', ' '), (' ', ' '), (' ', ' '), (' ', ' '), (' ', ' '), (' ', ' '), (' ', ' '), (' ', ' '), (' ', ' '), (' ', ' '), (' ', ' '), (' ', ' '), (' ', ' '), (' ', ' '), (' ', ' '), (' ', ' '), (' ', ' '), (' ', ' '), (' ', ' '), (' ', ' '), (' ', ' '), (' ', ' '), (' ', ' '), (' ', ' '), (' ', ' '), (' ', ' '), (' ', ' '), (' ', ' '), (' ', ' '), (' ', ' '), (' ', ' '), (' ', ' '), (' ', ' '), (' ', ' '), (' ', ' '), (' ', ' '), (' ', ' '), (' ', ' '), (' ', ' '), (' ', ' '), (' ', ' '), (' ', ' '), (' ', ' '), (' ', ' '), (' ', ' '), (' ', ' '), (' ', ' '), (' ', ' '), (' ', ' '), (' ', ' '), (' ', ' '), (' ', ' '), (' ', ' '), (' ', ' '), (' ', ' '), (' ', '\\xa0 '), ('\\xa0 ', ' '), (' ', ' '), (' ', ' '), (' ', ' '), (' ', ' '), (' ', ' '), (' ', ' '), (' ', ' '), (' ', ' '), (' ', ' '), (' ', ' '), (' ', ' '), (' ', ' '), (' ', ' '), (' ', ' '), (' ', ' '), (' ', ' '), (' ', ' '), (' ', ' '), (' ', ' '), (' ', ' '), (' ', ' '), (' ', ' '), (' ', ' '), (' ', ' '), (' ', ' '), (' ', ' '), (' ', ' '), (' ', ' '), (' ', ' '), (' ', ' '), (' ', ' '), (' ', ' '), (' ', ' '), (' ', ' '), (' ', ' '), (' ', ' '), (' ', ' '), (' ', ' '), (' ', ' '), (' ', ' '), (' ', ' '), (' ', ' '), (' ', ' '), (' ', ' '), (' ', ' '), (' ', ' '), (' ', ' '), (' ', ' '), (' ', ' '), (' ', ' '), (' ', ' '), (' ', ' '), (' ', ' '), (' ', ' '), (' ', ' '), (' ', ' '), (' ', ' '), (' ', ' '), (' ', ' '), (' ', ' '), (' ', ' '), (' ', ' '), (' ', ' '), (' ', ' '), (' ', ' '), (' ', ' '), (' ', ' '), (' ', ' '), (' ', ' '), (' ', ' '), (' ', ' '), (' ', ' '), (' ', ' '), (' ', ' '), (' ', ' '), (' ', ' '), (' ', ' '), (' ', ' '), (' ', ' '), (' ', ' '), (' ', ' '), (' ', ' '), (' ', ' '), (' ', ' '), (' ', ' '), (' ', ' '), (' ', ' '), (' ', ' '), (' ', ' '), (' ', ' '), (' ', ' '), (' ', ' '), (' ', ' '), (' ', '\\xa0 '), ('\\xa0 ', ' '), (' ', ' '), (' ', ' '), (' ', ' '), (' ', ' '), (' ', ' '), (' ', ' '), (' ', ' '), (' ', ' '), (' ', ' '), (' ', ' '), (' ', ' '), (' ', ' '), (' ', ' '), (' ', ' '), (' ', ' '), (' ', ' '), (' ', ' '), (' ', ' '), (' ', ' '), (' ', ' ')]\n"
     ]
    },
    {
     "name": "stderr",
     "output_type": "stream",
     "text": [
      "<ipython-input-7-89831597ce0d>:58: SettingWithCopyWarning: \n",
      "A value is trying to be set on a copy of a slice from a DataFrame\n",
      "\n",
      "See the caveats in the documentation: https://pandas.pydata.org/pandas-docs/stable/user_guide/indexing.html#returning-a-view-versus-a-copy\n",
      "  keyrow[n] = element[0]\n",
      "<ipython-input-7-89831597ce0d>:60: SettingWithCopyWarning: \n",
      "A value is trying to be set on a copy of a slice from a DataFrame\n",
      "\n",
      "See the caveats in the documentation: https://pandas.pydata.org/pandas-docs/stable/user_guide/indexing.html#returning-a-view-versus-a-copy\n",
      "  keyrow[n] = element[1]/N\n"
     ]
    },
    {
     "ename": "TypeError",
     "evalue": "'list' object is not callable",
     "output_type": "error",
     "traceback": [
      "\u001b[1;31m---------------------------------------------------------------------------\u001b[0m",
      "\u001b[1;31mTypeError\u001b[0m                                 Traceback (most recent call last)",
      "\u001b[1;32m<ipython-input-22-96500881c02e>\u001b[0m in \u001b[0;36m<module>\u001b[1;34m\u001b[0m\n\u001b[1;32m----> 1\u001b[1;33m \u001b[0mbigramdict\u001b[0m \u001b[1;33m=\u001b[0m \u001b[0mbigramofDF\u001b[0m\u001b[1;33m(\u001b[0m\u001b[0mcleaned_imported_df\u001b[0m\u001b[1;33m,\u001b[0m \u001b[1;34m\"Text\"\u001b[0m\u001b[1;33m)\u001b[0m\u001b[1;33m\u001b[0m\u001b[1;33m\u001b[0m\u001b[0m\n\u001b[0m\u001b[0;32m      2\u001b[0m \u001b[0mbigramdict\u001b[0m\u001b[1;33m[\u001b[0m\u001b[0marticle0\u001b[0m\u001b[1;33m]\u001b[0m\u001b[1;33m\u001b[0m\u001b[1;33m\u001b[0m\u001b[0m\n",
      "\u001b[1;32m<ipython-input-21-5e152ea44a13>\u001b[0m in \u001b[0;36mbigramofDF\u001b[1;34m(dataframe, column)\u001b[0m\n\u001b[0;32m      9\u001b[0m         \u001b[0mtokenizedarticle\u001b[0m \u001b[1;33m=\u001b[0m \u001b[0mtokenizer\u001b[0m\u001b[1;33m.\u001b[0m\u001b[0mtokenize\u001b[0m\u001b[1;33m(\u001b[0m\u001b[0mrow\u001b[0m\u001b[1;33m)\u001b[0m\u001b[1;33m\u001b[0m\u001b[1;33m\u001b[0m\u001b[0m\n\u001b[0;32m     10\u001b[0m         \u001b[0mtokenizedarticle\u001b[0m \u001b[1;33m=\u001b[0m \u001b[1;33m[\u001b[0m\u001b[0mword\u001b[0m\u001b[1;33m.\u001b[0m\u001b[0mlower\u001b[0m\u001b[1;33m(\u001b[0m\u001b[1;33m)\u001b[0m \u001b[1;32mfor\u001b[0m \u001b[0mword\u001b[0m \u001b[1;32min\u001b[0m \u001b[0mtokenizedarticle\u001b[0m \u001b[1;32mif\u001b[0m \u001b[0mword\u001b[0m \u001b[1;32mnot\u001b[0m \u001b[1;32min\u001b[0m \u001b[0mstopwords\u001b[0m\u001b[1;33m]\u001b[0m\u001b[1;33m\u001b[0m\u001b[1;33m\u001b[0m\u001b[0m\n\u001b[1;32m---> 11\u001b[1;33m         \u001b[0mbigrams\u001b[0m \u001b[1;33m=\u001b[0m \u001b[0mlist\u001b[0m\u001b[1;33m(\u001b[0m\u001b[0mbigrams\u001b[0m\u001b[1;33m(\u001b[0m\u001b[0mtokenizedarticle\u001b[0m\u001b[1;33m)\u001b[0m\u001b[1;33m)\u001b[0m\u001b[1;33m\u001b[0m\u001b[1;33m\u001b[0m\u001b[0m\n\u001b[0m\u001b[0;32m     12\u001b[0m         \u001b[0mprint\u001b[0m\u001b[1;33m(\u001b[0m\u001b[0mbigrams\u001b[0m\u001b[1;33m)\u001b[0m\u001b[1;33m\u001b[0m\u001b[1;33m\u001b[0m\u001b[0m\n\u001b[0;32m     13\u001b[0m         \u001b[0mbigramfreq\u001b[0m \u001b[1;33m=\u001b[0m \u001b[0mFreqDist\u001b[0m\u001b[1;33m(\u001b[0m\u001b[0mbigrams\u001b[0m\u001b[1;33m)\u001b[0m\u001b[1;33m\u001b[0m\u001b[1;33m\u001b[0m\u001b[0m\n",
      "\u001b[1;31mTypeError\u001b[0m: 'list' object is not callable"
     ]
    }
   ],
   "source": [
    "bigramdict = bigramofDF(cleaned_imported_df, \"Text\")\n",
    "print(bigramDF)\n",
    "bigramdict[article0]\n"
   ]
  },
  {
   "cell_type": "code",
   "execution_count": 28,
   "metadata": {},
   "outputs": [],
   "source": [
    "#add death/injury data to article data\n",
    "cleaned_imported_df\n",
    "index1 = cleaned_imported_df.index\n",
    "labels = ['ID', 'Date', 'State', 'City/County', 'Address', 'Killed', 'Injured']\n",
    "interimdf = cleaned_imported_df[labels]\n",
    "#unigram frequencies\n",
    "keywordlabels = [\"OneMCW\", \"OneMCWFreq\", \"TwoMCW\", \"TwoMCWFreq\", \"ThreeMCW\", \"ThreeMCWFreq\", \"FourMCW\", \"FourMCWFreq\", \"FiveMCW\", \"FiveMCWFreq\", \"SixMCW\", \"SixMCWFreq\", \"SevenMCW\", \"SevenMCWFreq\", \"EightMCW\", \"EightMCWFreq\", \"NineMCW\", \"NineMCWFreq\", \"TenMCW\", \"TenMCWFreq\"]\n",
    "keywordDF.columns = keywordlabels\n",
    "keywordDF.index = index1\n",
    "unigramfreq = pd.concat([interimdf, keywordDF], axis=1)\n",
    "unigramfreq.to_csv(\"UnigramFrequencies\")\n",
    "#bigram frequencies\n",
    "keywordlabels = [\"OneMFB\", \"OneMFBFreq\", \"TwoMFB\", \"TwoMFBFreq\", \"ThreeMFB\", \"ThreeMFBFreq\", \"FourMFB\", \"FourMFBFreq\", \"FiveMFB\", \"FiveMFBFreq\", \"SixMFB\", \"SixMFBFreq\", \"SevenMFB\", \"SevenMFBFreq\", \"EightMFB\", \"EightMFBFreq\", \"NineMFB\", \"NineMFBFreq\", \"TenMFB\", \"TenMFBFreq\"]\n",
    "bigramDF.columns = keywordlabels\n",
    "bigramDF.index = index1\n",
    "bigramfreq = pd.concat([bigramDF, interimdf], axis=1) \n",
    "bigramfreq.to_csv(\"BigramFrequencies\")\n",
    "#need to organize by date\n",
    "grouplabel = []"
   ]
  },
  {
   "cell_type": "code",
   "execution_count": null,
   "metadata": {},
   "outputs": [],
   "source": [
    "dategroupedunigram = unigramfreq.groupby(\"Date\")\n",
    "namelist=[]\n",
    "for name,group in dategroupdunigram:\n",
    "    n1\n",
    "    namelist.append(n1)\n",
    "dategroupedunigram = unigramfreq.aggregate(by=nseries)\n",
    "timestamp = \" 00:00:00\" #add this to index to access data, date is format 2000-01-31\n",
    "#groupedunigram = np.zeros([374,27], dtype=int)\n",
    "#unigrambydate = pd.DataFrame(unigrambydate)\n",
    "nseries = pd.DataFrame(np.zeros([374,1]))\n",
    "print(dategroupedunigram)\n",
    "#unigrambydate = pd.DataFrame(dategroupedunigram)\n",
    "#unigrambydate = unigrambydate[1][1].unstack()\n",
    "#i = unigrambydate.index\n",
    "#unigrambydate['ID', 119]\n",
    "#groupedunigram[0] = unigrambydate[i]"
   ]
  },
  {
   "cell_type": "code",
   "execution_count": null,
   "metadata": {},
   "outputs": [],
   "source": [
    "print(bigramDF[\"1st MFB\"].value_counts())\n",
    "#print(bigramDF[\"2nd MFB\"].value_counts())\n",
    "#print(bigramDF[4].value_counts())\n",
    "#print(bigramDF[6].value_counts())\n",
    "#print(bigramDF[10].value_counts())\n",
    "#print(bigramDF[12].value_counts())\n",
    "#print(bigramDF[14].value_counts())\n",
    "#print(bigramDF[16].value_counts())\n",
    "#print(bigramDF[18].value_counts())\n",
    "grouplabel\n"
   ]
  },
  {
   "cell_type": "markdown",
   "metadata": {},
   "source": [
    "I have most frequent word count and how often it appears in its text, for uni and bi gram. I want to do tri-gram, might not be necessary so I'll do it later. \n",
    "\n",
    "Does the frequency of certain words go up or down by time? Does rates of death/injury correlate to the frequency changes? I think this is a multiple linear regression"
   ]
  },
  {
   "cell_type": "code",
   "execution_count": null,
   "metadata": {},
   "outputs": [],
   "source": [
    "import statsmodels.formula.api as sm\n"
   ]
  },
  {
   "cell_type": "code",
   "execution_count": 52,
   "metadata": {},
   "outputs": [
    {
     "name": "stdout",
     "output_type": "stream",
     "text": [
      "              Unnamed: 0        ID    Killed   Injured  OneMCWFreq  \\\n",
      "Unnamed: 0      1.000000  0.750875  0.044193  0.011278   -0.002742   \n",
      "ID              0.750875  1.000000  0.030075  0.005011   -0.000561   \n",
      "Killed          0.044193  0.030075  1.000000  0.511368   -0.089005   \n",
      "Injured         0.011278  0.005011  0.511368  1.000000    0.000336   \n",
      "OneMCWFreq     -0.002742 -0.000561 -0.089005  0.000336    1.000000   \n",
      "TwoMCWFreq     -0.015749 -0.017030 -0.089055  0.019478    0.941309   \n",
      "ThreeMCWFreq   -0.024161 -0.028250 -0.076190  0.018563    0.918251   \n",
      "FourMCWFreq    -0.021056 -0.023524 -0.071812  0.022325    0.910156   \n",
      "FiveMCWFreq    -0.008404 -0.015094 -0.067380 -0.016394    0.704995   \n",
      "SixMCWFreq      0.004576  0.012957 -0.051939 -0.008340    0.595274   \n",
      "SevenMCWFreq    0.044401  0.053087 -0.037664 -0.013744    0.470646   \n",
      "EightMCWFreq   -0.002501  0.023175 -0.076746 -0.002838    0.315679   \n",
      "NineMCWFreq    -0.008482 -0.008373 -0.068989 -0.009974    0.268435   \n",
      "TenMCWFreq      0.008369  0.000455 -0.056264 -0.049765    0.229557   \n",
      "\n",
      "              TwoMCWFreq  ThreeMCWFreq  FourMCWFreq  FiveMCWFreq  SixMCWFreq  \\\n",
      "Unnamed: 0     -0.015749     -0.024161    -0.021056    -0.008404    0.004576   \n",
      "ID             -0.017030     -0.028250    -0.023524    -0.015094    0.012957   \n",
      "Killed         -0.089055     -0.076190    -0.071812    -0.067380   -0.051939   \n",
      "Injured         0.019478      0.018563     0.022325    -0.016394   -0.008340   \n",
      "OneMCWFreq      0.941309      0.918251     0.910156     0.704995    0.595274   \n",
      "TwoMCWFreq      1.000000      0.975033     0.968627     0.745347    0.613772   \n",
      "ThreeMCWFreq    0.975033      1.000000     0.991042     0.758165    0.617448   \n",
      "FourMCWFreq     0.968627      0.991042     1.000000     0.770352    0.624490   \n",
      "FiveMCWFreq     0.745347      0.758165     0.770352     1.000000    0.826990   \n",
      "SixMCWFreq      0.613772      0.617448     0.624490     0.826990    1.000000   \n",
      "SevenMCWFreq    0.478150      0.470753     0.476112     0.648457    0.791932   \n",
      "EightMCWFreq    0.295628      0.272109     0.273213     0.403550    0.508494   \n",
      "NineMCWFreq     0.244617      0.214300     0.211448     0.327353    0.410213   \n",
      "TenMCWFreq      0.195859      0.155678     0.151773     0.254621    0.326454   \n",
      "\n",
      "              SevenMCWFreq  EightMCWFreq  NineMCWFreq  TenMCWFreq  \n",
      "Unnamed: 0        0.044401     -0.002501    -0.008482    0.008369  \n",
      "ID                0.053087      0.023175    -0.008373    0.000455  \n",
      "Killed           -0.037664     -0.076746    -0.068989   -0.056264  \n",
      "Injured          -0.013744     -0.002838    -0.009974   -0.049765  \n",
      "OneMCWFreq        0.470646      0.315679     0.268435    0.229557  \n",
      "TwoMCWFreq        0.478150      0.295628     0.244617    0.195859  \n",
      "ThreeMCWFreq      0.470753      0.272109     0.214300    0.155678  \n",
      "FourMCWFreq       0.476112      0.273213     0.211448    0.151773  \n",
      "FiveMCWFreq       0.648457      0.403550     0.327353    0.254621  \n",
      "SixMCWFreq        0.791932      0.508494     0.410213    0.326454  \n",
      "SevenMCWFreq      1.000000      0.676304     0.558564    0.461136  \n",
      "EightMCWFreq      0.676304      1.000000     0.847938    0.723377  \n",
      "NineMCWFreq       0.558564      0.847938     1.000000    0.857319  \n",
      "TenMCWFreq        0.461136      0.723377     0.857319    1.000000  \n"
     ]
    },
    {
     "data": {
      "text/html": [
       "<table class=\"simpletable\">\n",
       "<caption>OLS Regression Results</caption>\n",
       "<tr>\n",
       "  <th>Dep. Variable:</th>         <td>Injured</td>     <th>  R-squared:         </th> <td>   0.280</td>\n",
       "</tr>\n",
       "<tr>\n",
       "  <th>Model:</th>                   <td>OLS</td>       <th>  Adj. R-squared:    </th> <td>   0.265</td>\n",
       "</tr>\n",
       "<tr>\n",
       "  <th>Method:</th>             <td>Least Squares</td>  <th>  F-statistic:       </th> <td>   18.75</td>\n",
       "</tr>\n",
       "<tr>\n",
       "  <th>Date:</th>             <td>Sun, 25 Apr 2021</td> <th>  Prob (F-statistic):</th> <td>7.98e-32</td>\n",
       "</tr>\n",
       "<tr>\n",
       "  <th>Time:</th>                 <td>14:42:02</td>     <th>  Log-Likelihood:    </th> <td> -1284.9</td>\n",
       "</tr>\n",
       "<tr>\n",
       "  <th>No. Observations:</th>      <td>   542</td>      <th>  AIC:               </th> <td>   2594.</td>\n",
       "</tr>\n",
       "<tr>\n",
       "  <th>Df Residuals:</th>          <td>   530</td>      <th>  BIC:               </th> <td>   2645.</td>\n",
       "</tr>\n",
       "<tr>\n",
       "  <th>Df Model:</th>              <td>    11</td>      <th>                     </th>     <td> </td>   \n",
       "</tr>\n",
       "<tr>\n",
       "  <th>Covariance Type:</th>      <td>nonrobust</td>    <th>                     </th>     <td> </td>   \n",
       "</tr>\n",
       "</table>\n",
       "<table class=\"simpletable\">\n",
       "<tr>\n",
       "        <td></td>          <th>coef</th>     <th>std err</th>      <th>t</th>      <th>P>|t|</th>  <th>[0.025</th>    <th>0.975]</th>  \n",
       "</tr>\n",
       "<tr>\n",
       "  <th>Intercept</th>    <td>    3.5967</td> <td>    0.251</td> <td>   14.321</td> <td> 0.000</td> <td>    3.103</td> <td>    4.090</td>\n",
       "</tr>\n",
       "<tr>\n",
       "  <th>Killed</th>       <td>    0.6218</td> <td>    0.044</td> <td>   14.018</td> <td> 0.000</td> <td>    0.535</td> <td>    0.709</td>\n",
       "</tr>\n",
       "<tr>\n",
       "  <th>OneMCWFreq</th>   <td>  -14.4085</td> <td>   12.743</td> <td>   -1.131</td> <td> 0.259</td> <td>  -39.442</td> <td>   10.625</td>\n",
       "</tr>\n",
       "<tr>\n",
       "  <th>TwoMCWFreq</th>   <td>   39.3418</td> <td>   23.473</td> <td>    1.676</td> <td> 0.094</td> <td>   -6.769</td> <td>   85.452</td>\n",
       "</tr>\n",
       "<tr>\n",
       "  <th>ThreeMCWFreq</th> <td>  -28.2382</td> <td>   37.523</td> <td>   -0.753</td> <td> 0.452</td> <td> -101.951</td> <td>   45.474</td>\n",
       "</tr>\n",
       "<tr>\n",
       "  <th>FourMCWFreq</th>  <td>   16.5262</td> <td>   34.198</td> <td>    0.483</td> <td> 0.629</td> <td>  -50.653</td> <td>   83.706</td>\n",
       "</tr>\n",
       "<tr>\n",
       "  <th>FiveMCWFreq</th>  <td>  -12.1006</td> <td>   12.001</td> <td>   -1.008</td> <td> 0.314</td> <td>  -35.677</td> <td>   11.475</td>\n",
       "</tr>\n",
       "<tr>\n",
       "  <th>SixMCWFreq</th>   <td>    6.0917</td> <td>   14.426</td> <td>    0.422</td> <td> 0.673</td> <td>  -22.247</td> <td>   34.430</td>\n",
       "</tr>\n",
       "<tr>\n",
       "  <th>SevenMCWFreq</th> <td>  -15.3444</td> <td>   14.878</td> <td>   -1.031</td> <td> 0.303</td> <td>  -44.572</td> <td>   13.883</td>\n",
       "</tr>\n",
       "<tr>\n",
       "  <th>EightMCWFreq</th> <td>   23.7231</td> <td>   21.661</td> <td>    1.095</td> <td> 0.274</td> <td>  -18.829</td> <td>   66.276</td>\n",
       "</tr>\n",
       "<tr>\n",
       "  <th>NineMCWFreq</th>  <td>   36.8310</td> <td>   28.863</td> <td>    1.276</td> <td> 0.202</td> <td>  -19.868</td> <td>   93.530</td>\n",
       "</tr>\n",
       "<tr>\n",
       "  <th>TenMCWFreq</th>   <td>  -55.4778</td> <td>   24.806</td> <td>   -2.236</td> <td> 0.026</td> <td> -104.208</td> <td>   -6.748</td>\n",
       "</tr>\n",
       "</table>\n",
       "<table class=\"simpletable\">\n",
       "<tr>\n",
       "  <th>Omnibus:</th>       <td>175.397</td> <th>  Durbin-Watson:     </th> <td>   1.944</td>\n",
       "</tr>\n",
       "<tr>\n",
       "  <th>Prob(Omnibus):</th> <td> 0.000</td>  <th>  Jarque-Bera (JB):  </th> <td>1890.788</td>\n",
       "</tr>\n",
       "<tr>\n",
       "  <th>Skew:</th>          <td> 1.091</td>  <th>  Prob(JB):          </th> <td>    0.00</td>\n",
       "</tr>\n",
       "<tr>\n",
       "  <th>Kurtosis:</th>      <td>11.886</td>  <th>  Cond. No.          </th> <td>1.20e+03</td>\n",
       "</tr>\n",
       "</table><br/><br/>Notes:<br/>[1] Standard Errors assume that the covariance matrix of the errors is correctly specified.<br/>[2] The condition number is large, 1.2e+03. This might indicate that there are<br/>strong multicollinearity or other numerical problems."
      ],
      "text/plain": [
       "<class 'statsmodels.iolib.summary.Summary'>\n",
       "\"\"\"\n",
       "                            OLS Regression Results                            \n",
       "==============================================================================\n",
       "Dep. Variable:                Injured   R-squared:                       0.280\n",
       "Model:                            OLS   Adj. R-squared:                  0.265\n",
       "Method:                 Least Squares   F-statistic:                     18.75\n",
       "Date:                Sun, 25 Apr 2021   Prob (F-statistic):           7.98e-32\n",
       "Time:                        14:42:02   Log-Likelihood:                -1284.9\n",
       "No. Observations:                 542   AIC:                             2594.\n",
       "Df Residuals:                     530   BIC:                             2645.\n",
       "Df Model:                          11                                         \n",
       "Covariance Type:            nonrobust                                         \n",
       "================================================================================\n",
       "                   coef    std err          t      P>|t|      [0.025      0.975]\n",
       "--------------------------------------------------------------------------------\n",
       "Intercept        3.5967      0.251     14.321      0.000       3.103       4.090\n",
       "Killed           0.6218      0.044     14.018      0.000       0.535       0.709\n",
       "OneMCWFreq     -14.4085     12.743     -1.131      0.259     -39.442      10.625\n",
       "TwoMCWFreq      39.3418     23.473      1.676      0.094      -6.769      85.452\n",
       "ThreeMCWFreq   -28.2382     37.523     -0.753      0.452    -101.951      45.474\n",
       "FourMCWFreq     16.5262     34.198      0.483      0.629     -50.653      83.706\n",
       "FiveMCWFreq    -12.1006     12.001     -1.008      0.314     -35.677      11.475\n",
       "SixMCWFreq       6.0917     14.426      0.422      0.673     -22.247      34.430\n",
       "SevenMCWFreq   -15.3444     14.878     -1.031      0.303     -44.572      13.883\n",
       "EightMCWFreq    23.7231     21.661      1.095      0.274     -18.829      66.276\n",
       "NineMCWFreq     36.8310     28.863      1.276      0.202     -19.868      93.530\n",
       "TenMCWFreq     -55.4778     24.806     -2.236      0.026    -104.208      -6.748\n",
       "==============================================================================\n",
       "Omnibus:                      175.397   Durbin-Watson:                   1.944\n",
       "Prob(Omnibus):                  0.000   Jarque-Bera (JB):             1890.788\n",
       "Skew:                           1.091   Prob(JB):                         0.00\n",
       "Kurtosis:                      11.886   Cond. No.                     1.20e+03\n",
       "==============================================================================\n",
       "\n",
       "Notes:\n",
       "[1] Standard Errors assume that the covariance matrix of the errors is correctly specified.\n",
       "[2] The condition number is large, 1.2e+03. This might indicate that there are\n",
       "strong multicollinearity or other numerical problems.\n",
       "\"\"\""
      ]
     },
     "execution_count": 52,
     "metadata": {},
     "output_type": "execute_result"
    }
   ],
   "source": [
    "singlewordfreq = pd.read_csv(\"UnigramFrequencies\")\n",
    "print(pd.plotting.scatter_matrix(singlewordfreq, figsize=(15, 15), diagonal='hist'))\n",
    "print(singlewordfreq.corr())\n",
    "#\n",
    "unigramkilledmlrols = sm.ols(formula=\"Killed ~ OneMCWFreq + TwoMCWFreq + ThreeMCWFreq + FourMCWFreq + FiveMCWFreq + SixMCWFreq + SevenMCWFreq + EightMCWFreq + NineMCWFreq + TenMCWFreq\", data=singlewordfreq).fit()\n",
    "unigraminjureddmlrols = sm.ols(formula=\"Injured ~ OneMCWFreq + TwoMCWFreq + ThreeMCWFreq + FourMCWFreq + FiveMCWFreq + SixMCWFreq + SevenMCWFreq + EightMCWFreq + NineMCWFreq + TenMCWFreq\", data=singlewordfreq).fit()\n",
    "unigramkilledmlrols.summary(), unigraminjuredmlrols.summary()\n",
    "#multivariable analysis shows that there is very weak, positive correlation between the word frequencies and the killed and injured\n",
    "#slightly greater r-squared when injured is added to the linear combination of killed, and vice versa\n",
    "# injured and killed have medium (.5 of [-1,1]) positive correlation"
   ]
  },
  {
   "cell_type": "code",
   "execution_count": 39,
   "metadata": {},
   "outputs": [
    {
     "data": {
      "image/png": "[encoded data removed]",
      "text/plain": [
       "<Figure size 720x432 with 1 Axes>"
      ]
     },
     "metadata": {
      "needs_background": "light"
     },
     "output_type": "display_data"
    }
   ],
   "source": [
    "import scipy as sc\n",
    "from scipy.stats import norm\n",
    "\n",
    "import pandas as pd\n",
    "import numpy as np\n",
    "from sklearn import linear_model\n",
    "\n",
    "import matplotlib.pyplot as plt\n",
    "%matplotlib inline  \n",
    "plt.rcParams['figure.figsize'] = (10, 6)\n",
    "\n",
    "from mpl_toolkits.mplot3d import Axes3D\n",
    "from matplotlib import cm\n",
    "\n",
    "plt.scatter(x=singlewordfreq[\"Date\"],y=singlewordfreq[\"OneMCWFreq\"],c='r',marker='s',label=\"Date\")\n",
    "#plt.scatter(x=singlewordfreq[\"Injured\"],y=singlewordfreq[\"OneMCWFreq\"],c='b',marker='s',label=\"Injured\")\n",
    "#plt.scatter(x=singlewordfreq[\"Date\"],y=singlewordfreq[\"OneMCWFreq\"],c='k',marker='*',label=\"Date\")\n",
    "#plt.scatter(x=singlewordfreq[\"Killed\"],y=singlewordfreq[\"TwoMCWFreq\"],c='b',marker='s',label=\"Killed2\")\n",
    "#plt.scatter(x=singlewordfreq[\"Injured\"],y=singlewordfreq[\"TwoMCWFreq\"],c='b',marker='o',label=\"Injured\")\n",
    "#plt.scatter(x=singlewordfreq[\"Killed\"],y=singlewordfreq[\"ThreeMCWFreq\"],c='k',marker='s',label=\"Killed3\")\n",
    "\n",
    "plt.legend(loc=4)\n",
    "plt.xlabel('Variables in DF')\n",
    "plt.ylabel('MCW Freq')\n",
    "plt.show()"
   ]
  },
  {
   "cell_type": "code",
   "execution_count": 41,
   "metadata": {},
   "outputs": [
    {
     "data": {
      "image/png": "[encoded data removed]",
      "text/plain": [
       "<Figure size 720x432 with 1 Axes>"
      ]
     },
     "metadata": {
      "needs_background": "light"
     },
     "output_type": "display_data"
    }
   ],
   "source": [
    "plt.scatter(x=singlewordfreq[\"Date\"],y=singlewordfreq[\"Killed\"],c='k',marker='*',label='TV')\n",
    "plt.plot(singlewordfreq[\"Date\"],unigramols.predict(),'k',color='blue',linewidth=3)\n",
    "\n",
    "plt.xlabel('TV budget (Thousands of dollars)')\n",
    "plt.ylabel('Sales (Thousand units of product)')\n",
    "plt.show()"
   ]
  },
  {
   "cell_type": "markdown",
   "metadata": {},
   "source": [
    "**Sentiment Analysis:** Our second kind of analysis for the article is going to be sentiment analysis classification. We created a classification model that trains on a library of tweets that are rated from 0 through 4 on a negative-positive scale. The tweet is vectorized into features and its rating. "
   ]
  },
  {
   "cell_type": "code",
   "execution_count": null,
   "metadata": {},
   "outputs": [],
   "source": [
    "import pandas as pd\n",
    "import numpy as np\n",
    "import re\n",
    "import matplotlib.pyplot as plt\n",
    "from sklearn.model_selection import train_test_split\n",
    "try:\n",
    "    from gensim.models import Word2Vec\n",
    "except Exception as e:\n",
    "    pass\n",
    "from collections import Counter\n",
    "\n",
    "import nltk\n",
    "#nltk.download('all')"
   ]
  },
  {
   "cell_type": "markdown",
   "metadata": {},
   "source": [
    "Importing and trimming twitter sentiment dataset\n",
    "\n",
    "Insert header, remove numbers, usernames, and NO_QUERY\n",
    "\n",
    "Move first row that became header down to data, add headers"
   ]
  },
  {
   "cell_type": "code",
   "execution_count": null,
   "metadata": {},
   "outputs": [],
   "source": [
    "df = pd.read_csv('training.1600000.processed.noemoticon.csv',encoding = \"ISO-8859-1\",names=[\"score\",\"id\",\"datetime\",\"NO_QUERY\",\"usernames\",\"tweet\"])\n",
    "\n",
    "df = df.drop(['id','NO_QUERY','usernames'],axis=1)\n",
    "\n",
    "df.head()"
   ]
  },
  {
   "cell_type": "markdown",
   "metadata": {},
   "source": [
    "Checking count values, dataset listed from 0 = negative to 4 = positive. "
   ]
  },
  {
   "cell_type": "code",
   "execution_count": null,
   "metadata": {},
   "outputs": [],
   "source": [
    "df = df.iloc[0:20000, :]\n",
    "print(df.shape)\n",
    "print(df['score'].value_counts())"
   ]
  },
  {
   "cell_type": "markdown",
   "metadata": {},
   "source": [
    "Clean up links, @users, hastags"
   ]
  },
  {
   "cell_type": "code",
   "execution_count": null,
   "metadata": {},
   "outputs": [],
   "source": [
    "stopwords = nltk.corpus.stopwords.words(\"english\")\n",
    "\n",
    "def cleanup(text):\n",
    "    clean = re.sub(\"(@[A-Za-z0-9]+)|([^0-9A-Za-z \\t])|(\\w+:\\/\\/\\S+)\",\" \",str(text)).split()\n",
    "    tokens = []\n",
    "    for token in clean:\n",
    "        if token not in stopwords:\n",
    "            tokens.append(token)\n",
    "    return tokens"
   ]
  },
  {
   "cell_type": "code",
   "execution_count": null,
   "metadata": {},
   "outputs": [],
   "source": [
    "df['tweet'] = df['tweet'].apply(lambda x: cleanup(x))\n",
    "\n",
    "df['score'] = df['score'].replace([0,4],['neg','pos']) \n",
    "\n",
    "df.head()"
   ]
  },
  {
   "cell_type": "code",
   "execution_count": null,
   "metadata": {},
   "outputs": [],
   "source": [
    "def to_tuple(x):\n",
    "    subset = x[['tweet','score']]\n",
    "    tuples = [tuple(i) for i in subset.to_numpy()]\n",
    "    return tuples"
   ]
  },
  {
   "cell_type": "code",
   "execution_count": null,
   "metadata": {},
   "outputs": [],
   "source": [
    "documents = to_tuple(df)\n",
    "documents[0] # tuple of tokens and score"
   ]
  },
  {
   "cell_type": "code",
   "execution_count": null,
   "metadata": {},
   "outputs": [],
   "source": [
    "# def word_master(x):\n",
    "#     master_list = []\n",
    "#     for i in range(len(x)):\n",
    "#         master_list += x['tweet'][i] \n",
    "#     return master_list\n",
    "\n",
    "words = remove_nesting(df['tweet'])\n",
    "\n",
    "word_features = nltk.FreqDist(w.lower() for w in words).most_common(2000)\n",
    "word_features =  [word_tuple[0] for word_tuple in word_features]\n",
    "word_features[0:5] "
   ]
  },
  {
   "cell_type": "code",
   "execution_count": null,
   "metadata": {},
   "outputs": [],
   "source": [
    "def document_features(document):    \n",
    "    document_words = set(document) \n",
    "    features = {}\n",
    "    for word in word_features:\n",
    "        features['contains('+ word +')'] = (word in document_words) \n",
    "    return features\n",
    "\n",
    "featuresets = [(document_features(d), c) for (d,c) in documents] \n",
    "featuresets[1]"
   ]
  },
  {
   "cell_type": "markdown",
   "metadata": {},
   "source": [
    "The words as feature vectors have been computed, this then establishes the training and test sets. Then runs the classification model on the test set. \n",
    "\n",
    "What remains to be done here is test the model on the article data which also needs to be turned into feature vectors. "
   ]
  },
  {
   "cell_type": "code",
   "execution_count": null,
   "metadata": {},
   "outputs": [],
   "source": [
    "train_set, test_set = featuresets[100:], featuresets[:100]\n",
    "classifier = nltk.NaiveBayesClassifier.train(train_set)\n",
    "\n",
    "print(nltk.classify.accuracy(classifier, test_set))\n",
    "\n",
    "classifier.show_most_informative_features(10)"
   ]
  },
  {
   "cell_type": "code",
   "execution_count": null,
   "metadata": {},
   "outputs": [],
   "source": [
    "text_labels = []\n",
    "for article in data[\"Text\"]:\n",
    "    tokenizer = RegexpTokenizer(r'\\w+')\n",
    "    articletext = tokenizer.tokenize(article)\n",
    "    articletext = [word.lower() for word in articletext if word not in stopwords]\n",
    "    text_labels.append(classifier.classify(document_features(article)))"
   ]
  },
  {
   "cell_type": "code",
   "execution_count": null,
   "metadata": {},
   "outputs": [],
   "source": [
    "plt.hist(text_labels)"
   ]
  },
  {
   "cell_type": "code",
   "execution_count": null,
   "metadata": {},
   "outputs": [],
   "source": [
    "df_news = pd.read_csv(r'news.csv')\n",
    "df_news.head()"
   ]
  },
  {
   "cell_type": "code",
   "execution_count": null,
   "metadata": {},
   "outputs": [],
   "source": [
    "def to_string(x):\n",
    "    subset = x['Text']\n",
    "    strings = [str(i) for i in subset.to_numpy()]\n",
    "    return strings\n",
    "\n",
    "strings = to_string(df_news)\n",
    "strings"
   ]
  },
  {
   "cell_type": "code",
   "execution_count": null,
   "metadata": {},
   "outputs": [],
   "source": [
    "from nltk.tokenize import sent_tokenize\n",
    "\n",
    "asdf = sent_tokenize(strings[49])\n",
    "asdf"
   ]
  },
  {
   "cell_type": "code",
   "execution_count": null,
   "metadata": {},
   "outputs": [],
   "source": [
    "article_no = []\n",
    "sentences = []\n",
    "\n",
    "for i in range(len(strings)):\n",
    "    s = sent_tokenize(strings[i])\n",
    "    for z in range(len(s)):\n",
    "        article_no.append(i)\n",
    "        sentences.append(s[z])\n",
    "\n",
    "list_of_tuples = list(zip(article_no,sentences))\n",
    "\n",
    "df_new = pd.DataFrame(list_of_tuples, columns = ['article_id','sentences'])\n",
    "df_new.shape"
   ]
  },
  {
   "cell_type": "code",
   "execution_count": null,
   "metadata": {},
   "outputs": [],
   "source": [
    "df_new['sentences'] = df_new['sentences'].apply(lambda x: cleanup(x))\n",
    "\n",
    "df_new.head()"
   ]
  },
  {
   "cell_type": "code",
   "execution_count": null,
   "metadata": {},
   "outputs": [],
   "source": [
    "classifier.classify(document_features(df_new['sentences'][0]))"
   ]
  },
  {
   "cell_type": "code",
   "execution_count": null,
   "metadata": {},
   "outputs": [],
   "source": [
    "sent_score = []\n",
    "for i in range(len(df_new)):\n",
    "    prediction = classifier.classify(document_features(df_new['sentences'][i]))\n",
    "    sent_score.append(prediction)\n",
    "    \n",
    "df_new['sentence score'] = sent_score\n",
    "df_new"
   ]
  },
  {
   "cell_type": "code",
   "execution_count": null,
   "metadata": {},
   "outputs": [],
   "source": [
    "article_id_count = 0\n",
    "\n",
    "four_count = 0\n",
    "total_count = 0\n",
    "\n",
    "pos = []\n",
    "tot = []\n",
    "    \n",
    "for i in range(len(df_new)):\n",
    "    if df_new['article_id'][i] == article_id_count:\n",
    "        total_count += 1\n",
    "        if df_new['sentence score'][i] == 4:\n",
    "            four_count += 1\n",
    "    else:\n",
    "        pos.append(four_count)\n",
    "        tot.append(total_count)\n",
    "        four_count = 0\n",
    "        total_count = 1\n",
    "        article_id_count += 1\n",
    "\n",
    "print(pos)\n",
    "print(tot)"
   ]
  },
  {
   "cell_type": "code",
   "execution_count": null,
   "metadata": {},
   "outputs": [],
   "source": [
    "df_news.drop(df_news.tail(1).index,inplace = True)"
   ]
  },
  {
   "cell_type": "code",
   "execution_count": null,
   "metadata": {},
   "outputs": [],
   "source": [
    "posp = []\n",
    "negp = []\n",
    "\n",
    "for i in range(len(pos)):\n",
    "    positive = pos[i]/tot[i]\n",
    "    posp.append(positive)\n",
    "    negp.append(1 - positive)\n",
    "\n",
    "df_news['positive %'] = posp\n",
    "df_news['negative %'] = negp\n",
    "    \n",
    "df_news.head()"
   ]
  },
  {
   "cell_type": "code",
   "execution_count": null,
   "metadata": {},
   "outputs": [],
   "source": [
    "ax = df_news.plot.bar(stacked = True, figsize = (20,10))"
   ]
  },
  {
   "cell_type": "markdown",
   "metadata": {},
   "source": [
    "# Ethical Considerations"
   ]
  },
  {
   "cell_type": "markdown",
   "metadata": {},
   "source": [
    "The gun violence data is collected manually from reliable news and police reports in an organized manner and is intended for public use. Since we are not republishing any material or using any metadata, there is also no conflict with the Rights and Limit of Use stated by the aforementioned news outlets.\n",
    "\n",
    "There could be some unintended bias in the data collection: all incidents with dysfunctional links were ommitted. It would be very time-consuming and ineffective to find substitute urls otherwise. \n",
    "\n",
    "We are working with statistics surrounding violent death or injury, it must be remembered that "
   ]
  },
  {
   "cell_type": "code",
   "execution_count": null,
   "metadata": {},
   "outputs": [],
   "source": []
  }
 ],
 "metadata": {
  "kernelspec": {
   "display_name": "Python 3",
   "language": "python",
   "name": "python3"
  },
  "language_info": {
   "codemirror_mode": {
    "name": "ipython",
    "version": 3
   },
   "file_extension": ".py",
   "mimetype": "text/x-python",
   "name": "python",
   "nbconvert_exporter": "python",
   "pygments_lexer": "ipython3",
   "version": "3.8.5"
  }
 },
 "nbformat": 4,
 "nbformat_minor": 4
}
