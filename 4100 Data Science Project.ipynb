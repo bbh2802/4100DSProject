{
 "cells": [
  {
   "cell_type": "markdown",
   "metadata": {},
   "source": [
    "Twitter Fingers == Trigger Fingers: A Look at Gun Violence"
   ]
  },
  {
   "cell_type": "markdown",
   "metadata": {},
   "source": [
    "Data Acquisition and Cleaning Part 1: Data was gathered from one main source, gunviolencearchive.org. Each individual reporting of gun violence comes with sources to prove that it happened, as well as details on the number injured, killed, date, time, and place. The first data acquisition takes these variables, puts them into a dataframe then into csv, as well as finds the source and cleans the links so that they are easily accessible. "
   ]
  },
  {
   "cell_type": "code",
   "execution_count": 19,
   "metadata": {},
   "outputs": [],
   "source": [
    "import pandas as pd\n",
    "import requests\n",
    "import urllib.request\n",
    "from bs4 import BeautifulSoup\n",
    "import re\n",
    "import numpy as np"
   ]
  },
  {
   "cell_type": "markdown",
   "metadata": {},
   "source": [
    "Functions"
   ]
  },
  {
   "cell_type": "code",
   "execution_count": 20,
   "metadata": {},
   "outputs": [],
   "source": [
    "def transform_tables(pd_dataframe):\n",
    "    # omit the hyperlink column that will be read as NA values\n",
    "    new_dataframe = pd_dataframe.loc[:,\"Incident ID\":\"# Injured\"]\n",
    "    # rename columns\n",
    "    new_dataframe = new_dataframe.rename(columns = {\"Incident ID\": \"ID\", \"Incident Date\": \"Date\", \n",
    "                                    \"State\": \"State\", \"City Or County\": \"City/County\", \n",
    "                                    \"Address\": \"Address\", \"# Killed\": \"Killed\", \n",
    "                                    \"# Injured\": \"Injured\"})\n",
    "    return new_dataframe"
   ]
  },
  {
   "cell_type": "code",
   "execution_count": 21,
   "metadata": {},
   "outputs": [],
   "source": [
    "def save_html(url, path):\n",
    "    response = requests.get(url)\n",
    "    with open(path, \"wb\") as file:\n",
    "        file.write(response.content)"
   ]
  },
  {
   "cell_type": "code",
   "execution_count": 22,
   "metadata": {},
   "outputs": [],
   "source": [
    "def get_webpages(soup, year):\n",
    "    last_webpage_href = soup.find('a', attrs={'title': \"Go to last page\"})\n",
    "    last_webpage_path = last_webpage_href.get('href')\n",
    "    number_of_other_pages = int(re.findall(r'%s(\\d+)'%\"page=\", last_webpage_path)[0])\n",
    "    if year in range(2014, 2016):\n",
    "        webpage_paths = ['/reports/mass-shootings/'+ str(year)] # initialize with the first page's path\n",
    "    else:\n",
    "        webpage_paths = ['/reports/mass-shooting?year='+ str(year)]\n",
    "    for page_number in range(1, number_of_other_pages + 1):\n",
    "        path = re.sub(str(number_of_other_pages), str(page_number), last_webpage_path)\n",
    "        webpage_paths.append(path)\n",
    "    return webpage_paths"
   ]
  },
  {
   "cell_type": "code",
   "execution_count": 23,
   "metadata": {},
   "outputs": [],
   "source": [
    "def get_news_sources(soup):\n",
    "    news_hrefs = soup.findAll('a', attrs={'href': re.compile(\"^https://|^http://\")})\n",
    "    news_links = [tag.get('href') for tag in news_hrefs if tag.text == \"View Source\"] # get all sources listed on a page\n",
    "    return news_links"
   ]
  },
  {
   "cell_type": "code",
   "execution_count": 24,
   "metadata": {},
   "outputs": [],
   "source": [
    "def remove_nesting(nested_list):\n",
    "    return [i for j in nested_list for i in j]"
   ]
  },
  {
   "cell_type": "markdown",
   "metadata": {},
   "source": [
    "Acquisition and Cleaning"
   ]
  },
  {
   "cell_type": "code",
   "execution_count": 25,
   "metadata": {},
   "outputs": [],
   "source": [
    "# get all pages paths\n",
    "\n",
    "web_pages_paths = []\n",
    "for year in range(2014, 2020):\n",
    "    path = \"mass_shooting_html_\"+ str(year)\n",
    "    soup = BeautifulSoup(open(path,'r'), 'html.parser')\n",
    "    web_pages_paths.append(get_webpages(soup, year)) # including the first\n",
    "\n",
    "#web_pages_paths[:2] \n"
   ]
  },
  {
   "cell_type": "code",
   "execution_count": 26,
   "metadata": {},
   "outputs": [],
   "source": [
    "# save first pages html\n",
    "\n",
    "for year in range(2014, 2020):\n",
    "    if year in range(2014, 2016):\n",
    "        first_page_url = \"https://www.gunviolencearchive.org/reports/mass-shootings/\" + str(year)\n",
    "    else:\n",
    "        first_page_url = \"https://www.gunviolencearchive.org/reports/mass-shooting?year=\" + str(year)\n",
    "    path = \"mass_shooting_html_\"+ str(year) \n",
    "    save_html(first_page_url, path)\n",
    "    "
   ]
  },
  {
   "cell_type": "code",
   "execution_count": 27,
   "metadata": {},
   "outputs": [
    {
     "data": {
      "text/plain": [
       "['https://www.kmov.com/news/downtown-st-louis-shooting-leaves-injured-overnight/article_5fe78650-a0ba-11e9-afa7-4fca28c07d37.html',\n",
       " 'https://chicago.suntimes.com/crime/2019/7/7/20684947/4-wounded-englewood-shooting-south-paulina-street-gun-violence',\n",
       " 'https://chicago.suntimes.com/crime/2019/7/7/20684923/4-wounded-1-critically-englewood-shooting-61st-place',\n",
       " 'https://www.abqjournal.com/1337222/4-shot-outside-abq-night-club.html',\n",
       " 'https://www.nbcbayarea.com/news/local/Quadruple-Shooting-San-Jose-Police-512320011.html',\n",
       " 'https://www.wcvb.com/article/6-people-shot-outside-of-roxbury-party-police-say/28306883',\n",
       " 'https://www.rgj.com/story/news/2021/03/24/reno-family-says-slayed-teen-hero-third-arrest-made-case/4761896001/',\n",
       " 'https://chicago.suntimes.com/crime/2019/7/5/20682901/5-wounde-woodlawn-shooting-67th-street-gun-violence',\n",
       " 'https://abc7ny.com/4-shot-in-brooklyn-after-4th-of-july-fireworks/5379759/',\n",
       " 'https://www.wifr.com/content/news/Four-people-shot-after-argument-in-Rockford-512248982.html',\n",
       " 'https://www.foxla.com/news/4-people-shot-in-central-alameda-area-of-l-a',\n",
       " 'https://chicago.suntimes.com/crime/2021/3/23/22346275/keshawn-keaton-pierre-teamer-murder-humboldt-park-shooting',\n",
       " 'https://www.fresnobee.com/news/local/crime/article232338372.html',\n",
       " 'https://www.wkrn.com/news/texas-sheriff-brother-kills-sister-self-at-housewarming/?fbclid=IwAR0JoZ-XGxFkNFLZbjnCjblabA3n-CsPn5lO--SxyVH8YZgu2FdZ-ziipLg',\n",
       " 'https://fox2now.com/2019/07/03/police-search-for-drive-by-shooter-who-opened-fire-outside-wellston-food-market/',\n",
       " 'https://foxbaltimore.com/news/local/5-women-shot-in-overnight-violence-man-woman-killed',\n",
       " 'https://www.eastbaytimes.com/2019/06/30/boy-three-adults-wounded-in-oakland-shooting/',\n",
       " 'https://www.dailybulletin.com/2019/07/01/five-wounded-in-yucaipa-barbecue-shooting-at-mobile-home-park/',\n",
       " 'https://www.wfaa.com/article/news/crime/4-teens-shot-2-killed-at-a-playground-in-east-dallas/287-ed57fc9a-aa0d-4440-a394-b890929372d7',\n",
       " 'https://twitter.com/Stringernews/status/1145240156049485824',\n",
       " 'https://www.nbcconnecticut.com/news/local/Police-Investigate-Quadruple-Shooting-in-Hartford-512003582.html',\n",
       " 'https://www.wdsu.com/article/terrebonne-parish-officials-argument-may-have-led-to-four-shot-injured/28231051',\n",
       " 'https://chicago.suntimes.com/crime/2019/6/29/19739597/five-shot-in-near-west-side',\n",
       " 'https://www.wafb.com/2019/06/29/police-injured-shooting-florida-boulevard-night-club/']"
      ]
     },
     "execution_count": 27,
     "metadata": {},
     "output_type": "execute_result"
    }
   ],
   "source": [
    "sources_container = np.arange(2014, 2020, 1).tolist()\n",
    "for year_index in range(len(sources_container)):\n",
    "    year = 2014 + year_index\n",
    "    sources_container[year_index] = []\n",
    "    page_index = -1\n",
    "    for path in web_pages_paths[year_index]:\n",
    "        page_index += 1\n",
    "        link = \"https://www.gunviolencearchive.org\" + path\n",
    "        filename = \"mass_shooting_html_\"+ str(year) + \"_page_\" + str(page_index)\n",
    "        #save_html(link, filename)\n",
    "        soup = BeautifulSoup(open(filename,'r'), 'html.parser')\n",
    "        this_page_sources = get_news_sources(soup)\n",
    "        sources_container[year_index].append(this_page_sources) \n",
    "sources_container[5][8]"
   ]
  },
  {
   "cell_type": "code",
   "execution_count": 28,
   "metadata": {},
   "outputs": [
    {
     "data": {
      "text/plain": [
       "['http://www.vermilioncountyfirst.com/2019/12/29/5-women-shot-at-danville-home/',\n",
       " 'https://www.wkbw.com/news/local-news/4-shot-1-seriously-injured-in-riverside-early-sunday',\n",
       " 'https://www.modbee.com/news/local/crime/article238828443.html',\n",
       " 'https://www.modbee.com/news/local/crime/article238841643.html',\n",
       " 'https://www.11alive.com/article/news/crime/kennesaw-area-shooting-apartment/85-e07c79a0-0881-466e-aa1b-7214148e85e6']"
      ]
     },
     "execution_count": 28,
     "metadata": {},
     "output_type": "execute_result"
    }
   ],
   "source": [
    "news_2014 = remove_nesting(sources_container[0])\n",
    "news_2015 = remove_nesting(sources_container[1])\n",
    "news_2016 = remove_nesting(sources_container[2])\n",
    "news_2017 = remove_nesting(sources_container[3])\n",
    "news_2018 = remove_nesting(sources_container[4])\n",
    "news_2019 = remove_nesting(sources_container[5])\n",
    "news_2019[:5]"
   ]
  },
  {
   "cell_type": "code",
   "execution_count": 29,
   "metadata": {},
   "outputs": [],
   "source": [
    "# get the report tables\n",
    "\n",
    "annual_reports = []\n",
    "for year in range(2014, 2020):\n",
    "    first_page_url = \"https://www.gunviolencearchive.org/reports/mass-shootings/\" + str(year)\n",
    "    csv_file = str(year) + \"_mass_shootings.csv\"\n",
    "    this_year_report = pd.read_csv(csv_file)\n",
    "    cleaned_report = transform_tables(this_year_report)\n",
    "    annual_reports.append(cleaned_report)\n",
    "    "
   ]
  },
  {
   "cell_type": "code",
   "execution_count": 30,
   "metadata": {},
   "outputs": [
    {
     "data": {
      "text/html": [
       "<div>\n",
       "<style scoped>\n",
       "    .dataframe tbody tr th:only-of-type {\n",
       "        vertical-align: middle;\n",
       "    }\n",
       "\n",
       "    .dataframe tbody tr th {\n",
       "        vertical-align: top;\n",
       "    }\n",
       "\n",
       "    .dataframe thead th {\n",
       "        text-align: right;\n",
       "    }\n",
       "</style>\n",
       "<table border=\"1\" class=\"dataframe\">\n",
       "  <thead>\n",
       "    <tr style=\"text-align: right;\">\n",
       "      <th></th>\n",
       "      <th>ID</th>\n",
       "      <th>Date</th>\n",
       "      <th>State</th>\n",
       "      <th>City/County</th>\n",
       "      <th>Address</th>\n",
       "      <th>Killed</th>\n",
       "      <th>Injured</th>\n",
       "    </tr>\n",
       "  </thead>\n",
       "  <tbody>\n",
       "    <tr>\n",
       "      <th>0</th>\n",
       "      <td>1582816</td>\n",
       "      <td>December 29, 2019</td>\n",
       "      <td>Illinois</td>\n",
       "      <td>Danville</td>\n",
       "      <td>1803 block of Westview Ave</td>\n",
       "      <td>0</td>\n",
       "      <td>5</td>\n",
       "    </tr>\n",
       "    <tr>\n",
       "      <th>1</th>\n",
       "      <td>1582197</td>\n",
       "      <td>December 29, 2019</td>\n",
       "      <td>New York</td>\n",
       "      <td>Buffalo</td>\n",
       "      <td>50 block of Henrietta Ave</td>\n",
       "      <td>1</td>\n",
       "      <td>3</td>\n",
       "    </tr>\n",
       "    <tr>\n",
       "      <th>2</th>\n",
       "      <td>1583444</td>\n",
       "      <td>December 29, 2019</td>\n",
       "      <td>California</td>\n",
       "      <td>Ceres</td>\n",
       "      <td>800 block of Allacante Dr</td>\n",
       "      <td>0</td>\n",
       "      <td>5</td>\n",
       "    </tr>\n",
       "    <tr>\n",
       "      <th>3</th>\n",
       "      <td>1581590</td>\n",
       "      <td>December 27, 2019</td>\n",
       "      <td>California</td>\n",
       "      <td>Modesto</td>\n",
       "      <td>1900 block of Vernon Ave</td>\n",
       "      <td>1</td>\n",
       "      <td>3</td>\n",
       "    </tr>\n",
       "    <tr>\n",
       "      <th>4</th>\n",
       "      <td>1581476</td>\n",
       "      <td>December 27, 2019</td>\n",
       "      <td>Georgia</td>\n",
       "      <td>Kennesaw</td>\n",
       "      <td>1575 Ridenour Pkwy NW</td>\n",
       "      <td>0</td>\n",
       "      <td>4</td>\n",
       "    </tr>\n",
       "    <tr>\n",
       "      <th>5</th>\n",
       "      <td>1581103</td>\n",
       "      <td>December 27, 2019</td>\n",
       "      <td>Texas</td>\n",
       "      <td>Houston</td>\n",
       "      <td>500 block of Smart St</td>\n",
       "      <td>2</td>\n",
       "      <td>7</td>\n",
       "    </tr>\n",
       "    <tr>\n",
       "      <th>6</th>\n",
       "      <td>1580308</td>\n",
       "      <td>December 26, 2019</td>\n",
       "      <td>Florida</td>\n",
       "      <td>Saint Petersburg</td>\n",
       "      <td>4300 6th St S</td>\n",
       "      <td>0</td>\n",
       "      <td>5</td>\n",
       "    </tr>\n",
       "    <tr>\n",
       "      <th>7</th>\n",
       "      <td>1579889</td>\n",
       "      <td>December 25, 2019</td>\n",
       "      <td>California</td>\n",
       "      <td>Oakland</td>\n",
       "      <td>2100 block of 34th Ave</td>\n",
       "      <td>0</td>\n",
       "      <td>4</td>\n",
       "    </tr>\n",
       "    <tr>\n",
       "      <th>8</th>\n",
       "      <td>1579970</td>\n",
       "      <td>December 25, 2019</td>\n",
       "      <td>Iowa</td>\n",
       "      <td>Coralville</td>\n",
       "      <td>954 Boston Way</td>\n",
       "      <td>1</td>\n",
       "      <td>3</td>\n",
       "    </tr>\n",
       "    <tr>\n",
       "      <th>9</th>\n",
       "      <td>1579856</td>\n",
       "      <td>December 25, 2019</td>\n",
       "      <td>Virginia</td>\n",
       "      <td>Richmond</td>\n",
       "      <td>1800 E Main St</td>\n",
       "      <td>1</td>\n",
       "      <td>3</td>\n",
       "    </tr>\n",
       "  </tbody>\n",
       "</table>\n",
       "</div>"
      ],
      "text/plain": [
       "        ID               Date       State       City/County  \\\n",
       "0  1582816  December 29, 2019    Illinois          Danville   \n",
       "1  1582197  December 29, 2019    New York           Buffalo   \n",
       "2  1583444  December 29, 2019  California             Ceres   \n",
       "3  1581590  December 27, 2019  California           Modesto   \n",
       "4  1581476  December 27, 2019     Georgia          Kennesaw   \n",
       "5  1581103  December 27, 2019       Texas           Houston   \n",
       "6  1580308  December 26, 2019     Florida  Saint Petersburg   \n",
       "7  1579889  December 25, 2019  California           Oakland   \n",
       "8  1579970  December 25, 2019        Iowa        Coralville   \n",
       "9  1579856  December 25, 2019    Virginia          Richmond   \n",
       "\n",
       "                      Address  Killed  Injured  \n",
       "0  1803 block of Westview Ave       0        5  \n",
       "1   50 block of Henrietta Ave       1        3  \n",
       "2   800 block of Allacante Dr       0        5  \n",
       "3    1900 block of Vernon Ave       1        3  \n",
       "4       1575 Ridenour Pkwy NW       0        4  \n",
       "5       500 block of Smart St       2        7  \n",
       "6               4300 6th St S       0        5  \n",
       "7      2100 block of 34th Ave       0        4  \n",
       "8              954 Boston Way       1        3  \n",
       "9              1800 E Main St       1        3  "
      ]
     },
     "execution_count": 30,
     "metadata": {},
     "output_type": "execute_result"
    }
   ],
   "source": [
    "ms_2014 = annual_reports[0]\n",
    "ms_2015 = annual_reports[1]\n",
    "ms_2016 = annual_reports[2]\n",
    "ms_2017 = annual_reports[3]\n",
    "ms_2018 = annual_reports[4]\n",
    "ms_2019 = annual_reports[5]\n",
    "\n",
    "ms_2019[:10]"
   ]
  },
  {
   "cell_type": "code",
   "execution_count": 31,
   "metadata": {},
   "outputs": [
    {
     "data": {
      "text/html": [
       "<div>\n",
       "<style scoped>\n",
       "    .dataframe tbody tr th:only-of-type {\n",
       "        vertical-align: middle;\n",
       "    }\n",
       "\n",
       "    .dataframe tbody tr th {\n",
       "        vertical-align: top;\n",
       "    }\n",
       "\n",
       "    .dataframe thead th {\n",
       "        text-align: right;\n",
       "    }\n",
       "</style>\n",
       "<table border=\"1\" class=\"dataframe\">\n",
       "  <thead>\n",
       "    <tr style=\"text-align: right;\">\n",
       "      <th></th>\n",
       "      <th>ID</th>\n",
       "      <th>Date</th>\n",
       "      <th>State</th>\n",
       "      <th>City/County</th>\n",
       "      <th>Address</th>\n",
       "      <th>Killed</th>\n",
       "      <th>Injured</th>\n",
       "      <th>Source</th>\n",
       "    </tr>\n",
       "  </thead>\n",
       "  <tbody>\n",
       "    <tr>\n",
       "      <th>0</th>\n",
       "      <td>1582816</td>\n",
       "      <td>December 29, 2019</td>\n",
       "      <td>Illinois</td>\n",
       "      <td>Danville</td>\n",
       "      <td>1803 block of Westview Ave</td>\n",
       "      <td>0</td>\n",
       "      <td>5</td>\n",
       "      <td>http://www.vermilioncountyfirst.com/2019/12/29...</td>\n",
       "    </tr>\n",
       "    <tr>\n",
       "      <th>1</th>\n",
       "      <td>1582197</td>\n",
       "      <td>December 29, 2019</td>\n",
       "      <td>New York</td>\n",
       "      <td>Buffalo</td>\n",
       "      <td>50 block of Henrietta Ave</td>\n",
       "      <td>1</td>\n",
       "      <td>3</td>\n",
       "      <td>https://www.wkbw.com/news/local-news/4-shot-1-...</td>\n",
       "    </tr>\n",
       "    <tr>\n",
       "      <th>2</th>\n",
       "      <td>1583444</td>\n",
       "      <td>December 29, 2019</td>\n",
       "      <td>California</td>\n",
       "      <td>Ceres</td>\n",
       "      <td>800 block of Allacante Dr</td>\n",
       "      <td>0</td>\n",
       "      <td>5</td>\n",
       "      <td>https://www.modbee.com/news/local/crime/articl...</td>\n",
       "    </tr>\n",
       "    <tr>\n",
       "      <th>3</th>\n",
       "      <td>1581590</td>\n",
       "      <td>December 27, 2019</td>\n",
       "      <td>California</td>\n",
       "      <td>Modesto</td>\n",
       "      <td>1900 block of Vernon Ave</td>\n",
       "      <td>1</td>\n",
       "      <td>3</td>\n",
       "      <td>https://www.modbee.com/news/local/crime/articl...</td>\n",
       "    </tr>\n",
       "    <tr>\n",
       "      <th>4</th>\n",
       "      <td>1581476</td>\n",
       "      <td>December 27, 2019</td>\n",
       "      <td>Georgia</td>\n",
       "      <td>Kennesaw</td>\n",
       "      <td>1575 Ridenour Pkwy NW</td>\n",
       "      <td>0</td>\n",
       "      <td>4</td>\n",
       "      <td>https://www.11alive.com/article/news/crime/ken...</td>\n",
       "    </tr>\n",
       "    <tr>\n",
       "      <th>5</th>\n",
       "      <td>1581103</td>\n",
       "      <td>December 27, 2019</td>\n",
       "      <td>Texas</td>\n",
       "      <td>Houston</td>\n",
       "      <td>500 block of Smart St</td>\n",
       "      <td>2</td>\n",
       "      <td>7</td>\n",
       "      <td>https://www.chron.com/news/houston-texas/houst...</td>\n",
       "    </tr>\n",
       "    <tr>\n",
       "      <th>6</th>\n",
       "      <td>1580308</td>\n",
       "      <td>December 26, 2019</td>\n",
       "      <td>Florida</td>\n",
       "      <td>Saint Petersburg</td>\n",
       "      <td>4300 6th St S</td>\n",
       "      <td>0</td>\n",
       "      <td>5</td>\n",
       "      <td>https://www.tampabay.com/news/st-petersburg/20...</td>\n",
       "    </tr>\n",
       "    <tr>\n",
       "      <th>7</th>\n",
       "      <td>1579889</td>\n",
       "      <td>December 25, 2019</td>\n",
       "      <td>California</td>\n",
       "      <td>Oakland</td>\n",
       "      <td>2100 block of 34th Ave</td>\n",
       "      <td>0</td>\n",
       "      <td>4</td>\n",
       "      <td>https://abc7news.com/quadruple-shooting-at-hol...</td>\n",
       "    </tr>\n",
       "    <tr>\n",
       "      <th>8</th>\n",
       "      <td>1579970</td>\n",
       "      <td>December 25, 2019</td>\n",
       "      <td>Iowa</td>\n",
       "      <td>Coralville</td>\n",
       "      <td>954 Boston Way</td>\n",
       "      <td>1</td>\n",
       "      <td>3</td>\n",
       "      <td>https://www.kcrg.com/2020/07/08/brothers-now-j...</td>\n",
       "    </tr>\n",
       "    <tr>\n",
       "      <th>9</th>\n",
       "      <td>1579856</td>\n",
       "      <td>December 25, 2019</td>\n",
       "      <td>Virginia</td>\n",
       "      <td>Richmond</td>\n",
       "      <td>1800 E Main St</td>\n",
       "      <td>1</td>\n",
       "      <td>3</td>\n",
       "      <td>https://wtvr.com/2019/12/25/kenneth-lawson-obit/</td>\n",
       "    </tr>\n",
       "  </tbody>\n",
       "</table>\n",
       "</div>"
      ],
      "text/plain": [
       "        ID               Date       State       City/County  \\\n",
       "0  1582816  December 29, 2019    Illinois          Danville   \n",
       "1  1582197  December 29, 2019    New York           Buffalo   \n",
       "2  1583444  December 29, 2019  California             Ceres   \n",
       "3  1581590  December 27, 2019  California           Modesto   \n",
       "4  1581476  December 27, 2019     Georgia          Kennesaw   \n",
       "5  1581103  December 27, 2019       Texas           Houston   \n",
       "6  1580308  December 26, 2019     Florida  Saint Petersburg   \n",
       "7  1579889  December 25, 2019  California           Oakland   \n",
       "8  1579970  December 25, 2019        Iowa        Coralville   \n",
       "9  1579856  December 25, 2019    Virginia          Richmond   \n",
       "\n",
       "                      Address  Killed  Injured  \\\n",
       "0  1803 block of Westview Ave       0        5   \n",
       "1   50 block of Henrietta Ave       1        3   \n",
       "2   800 block of Allacante Dr       0        5   \n",
       "3    1900 block of Vernon Ave       1        3   \n",
       "4       1575 Ridenour Pkwy NW       0        4   \n",
       "5       500 block of Smart St       2        7   \n",
       "6               4300 6th St S       0        5   \n",
       "7      2100 block of 34th Ave       0        4   \n",
       "8              954 Boston Way       1        3   \n",
       "9              1800 E Main St       1        3   \n",
       "\n",
       "                                              Source  \n",
       "0  http://www.vermilioncountyfirst.com/2019/12/29...  \n",
       "1  https://www.wkbw.com/news/local-news/4-shot-1-...  \n",
       "2  https://www.modbee.com/news/local/crime/articl...  \n",
       "3  https://www.modbee.com/news/local/crime/articl...  \n",
       "4  https://www.11alive.com/article/news/crime/ken...  \n",
       "5  https://www.chron.com/news/houston-texas/houst...  \n",
       "6  https://www.tampabay.com/news/st-petersburg/20...  \n",
       "7  https://abc7news.com/quadruple-shooting-at-hol...  \n",
       "8  https://www.kcrg.com/2020/07/08/brothers-now-j...  \n",
       "9   https://wtvr.com/2019/12/25/kenneth-lawson-obit/  "
      ]
     },
     "execution_count": 31,
     "metadata": {},
     "output_type": "execute_result"
    }
   ],
   "source": [
    "ms_2014['Source'] = news_2014\n",
    "ms_2015['Source'] = news_2015\n",
    "ms_2016['Source'] = news_2016\n",
    "try:\n",
    "    ms_2017['Source'] = news_2017\n",
    "except Exception as e:\n",
    "    pass\n",
    "ms_2018['Source'] = news_2018\n",
    "\n",
    "# ms_2019['Source'] = news_2019 \n",
    "# gives error since one row does not have a source listed directly\n",
    "\n",
    "index = news_2019.index(\"https://www.wcvb.com/article/6-people-shot-outside-of-roxbury-party-police-say/28306883\") # index of where it is supposed to be \n",
    "news_2019.insert(index, \"https://fox2now.com/2019/07/07/north-county-residents-on-edge-after-5-adults-found-dead-in-apartment/\")\n",
    "news_2019 = [news_2019[i] for i in range(len(news_2019)) if news_2019[i] != news_2019[i-1]] \n",
    "# in case of re-running the insert code and duplicating\n",
    "\n",
    "ms_2019['Source'] = news_2019 \n",
    "ms_2019[:10]\n"
   ]
  },
  {
   "cell_type": "code",
   "execution_count": 32,
   "metadata": {},
   "outputs": [],
   "source": [
    "ms_2014.to_csv(path_or_buf = \"complete_2014_dataset\")\n",
    "ms_2015.to_csv(path_or_buf = \"complete_2015_dataset\")\n",
    "ms_2016.to_csv(path_or_buf = \"complete_2016_dataset\")\n",
    "ms_2017.to_csv(path_or_buf = \"complete_2017_dataset\")\n",
    "ms_2018.to_csv(path_or_buf = \"complete_2018_dataset\")\n",
    "ms_2019.to_csv(path_or_buf = \"complete_2019_dataset\") # export as csv files"
   ]
  },
  {
   "cell_type": "code",
   "execution_count": 33,
   "metadata": {},
   "outputs": [
    {
     "name": "stdout",
     "output_type": "stream",
     "text": [
      "2085\n"
     ]
    }
   ],
   "source": [
    "merged_data = pd.concat([ms_2014, ms_2015, ms_2016, ms_2017, ms_2018, ms_2019])\n",
    "print(len(merged_data))\n",
    "merged_data.to_csv(path_or_buf = \"complete_project_dataset1\")"
   ]
  },
  {
   "cell_type": "markdown",
   "metadata": {},
   "source": [
    "Data Acquisition Part 2: The second step of the data acquisition process was to access the sources, and find the article text from each source. This allows us to create a second set of data in a text file for analysis of all words from these articles, \"articletext\". "
   ]
  },
  {
   "cell_type": "code",
   "execution_count": 34,
   "metadata": {},
   "outputs": [],
   "source": [
    "import pandas as pd\n",
    "from bs4 import BeautifulSoup\n",
    "import socket\n",
    "import urllib.request\n",
    "\n",
    "#reads in complete project data\n",
    "gunviolencedataset = pd.read_csv(\"complete_project_dataset\")\n",
    "sourceurl = gunviolencedataset[\"Source\"] #creates a series of just the source urls"
   ]
  },
  {
   "cell_type": "markdown",
   "metadata": {},
   "source": [
    "The function that takes the source url, goes to the url, reads in the text from that site. The function then writes the text from the \"p\" tag to a text file, so that it can be accessed afterwards. "
   ]
  },
  {
   "cell_type": "code",
   "execution_count": 36,
   "metadata": {},
   "outputs": [],
   "source": [
    "def getsourcetext(urlseries):\n",
    "    #initialize beautifulsoup\n",
    "    soup = BeautifulSoup('''<html>  </html>''', 'html.parser') \n",
    "    timeout = 20 #creates a timeout variable w an int\n",
    "    socket.setdefaulttimeout(timeout) #uses timeout to set the socket timeout\n",
    "    textfile = open(\"articletext1\", \"w+\",  encoding=\"utf-8\") #creates a writing file\n",
    "    for k in urlseries: #runs this loop for every entry in the series\n",
    "        try:\n",
    "            html = urllib.request.urlopen(url=k) #opens k website\n",
    "            html = html.read() #reads in website info\n",
    "            htmlfile = html.decode('utf-8') #decodes the info into a new file\n",
    "        #need to make exceptions for 404/403/etc\n",
    "        except Exception as e:\n",
    "            continue\n",
    "        else: #what to do after try block works or doesn't work\n",
    "            singlesoup = BeautifulSoup(htmlfile, 'html.parser') #the variable that holds the data from the article\n",
    "            for n in singlesoup(\"p\"): #finds p tag (the main paragraph of the article)\n",
    "                textfile.write(n.get_text(strip=True)) #we only want the parts of the article that are from the main paragraph\n",
    "            soup.append(singlesoup) #adds the html file to the collective beautiful soup file\n",
    "    textfile.close()\n",
    "    return soup"
   ]
  },
  {
   "cell_type": "markdown",
   "metadata": {},
   "source": [
    "The below block gives the \"allhtmlfiletext\" file and creates a beautifulsoup object of all the htmlfiles in the series. The purpose of creating the \"allhtmlfiletext\" is so that the getsourcetext() function defined above doesn't have to run everytime, it takes about 40-50 minutes to complete. "
   ]
  },
  {
   "cell_type": "code",
   "execution_count": 37,
   "metadata": {},
   "outputs": [],
   "source": [
    "sourcesoup = getsourcetext(sourceurl) #makes sourcesoup into the entire beautiful soup, as well as finds the links of the source url series\n",
    "allhtmlfiles = sourcesoup.get_text(strip=True) #gets all of the written words out as a sting\n",
    "allhtmltxt = open(\"allhtmlfiletext\", \"w\", encoding = \"utf-8\") #creates a file\n",
    "allhtmltxt.write(allhtmlfiles) #adds this string to the file\n",
    "allhtmltxt.close() #closes file"
   ]
  },
  {
   "cell_type": "markdown",
   "metadata": {},
   "source": [
    "Exploratory Analysis: After obtaining and cleaning the data, we wanted to look at the statistics and visualization of the data gathered. "
   ]
  },
  {
   "cell_type": "code",
   "execution_count": 1,
   "metadata": {},
   "outputs": [],
   "source": [
    "import pandas as pd\n",
    "import numpy as np\n",
    "import scipy as sc\n",
    "import datetime\n",
    "import matplotlib\n",
    "import matplotlib.pyplot as plt\n",
    "import statistics"
   ]
  },
  {
   "cell_type": "code",
   "execution_count": 2,
   "metadata": {},
   "outputs": [
    {
     "data": {
      "text/html": [
       "<div>\n",
       "<style scoped>\n",
       "    .dataframe tbody tr th:only-of-type {\n",
       "        vertical-align: middle;\n",
       "    }\n",
       "\n",
       "    .dataframe tbody tr th {\n",
       "        vertical-align: top;\n",
       "    }\n",
       "\n",
       "    .dataframe thead th {\n",
       "        text-align: right;\n",
       "    }\n",
       "</style>\n",
       "<table border=\"1\" class=\"dataframe\">\n",
       "  <thead>\n",
       "    <tr style=\"text-align: right;\">\n",
       "      <th></th>\n",
       "      <th>ID</th>\n",
       "      <th>Date</th>\n",
       "      <th>State</th>\n",
       "      <th>City/County</th>\n",
       "      <th>Address</th>\n",
       "      <th>Killed</th>\n",
       "      <th>Injured</th>\n",
       "      <th>Source</th>\n",
       "    </tr>\n",
       "  </thead>\n",
       "  <tbody>\n",
       "    <tr>\n",
       "      <th>1</th>\n",
       "      <td>1017422</td>\n",
       "      <td>December 31, 2017</td>\n",
       "      <td>Illinois</td>\n",
       "      <td>Chicago</td>\n",
       "      <td>2335 Howard St</td>\n",
       "      <td>0</td>\n",
       "      <td>4</td>\n",
       "      <td>https://chicago.suntimes.com/news/3-wounded-1-...</td>\n",
       "    </tr>\n",
       "    <tr>\n",
       "      <th>2</th>\n",
       "      <td>1018118</td>\n",
       "      <td>December 31, 2017</td>\n",
       "      <td>New Jersey</td>\n",
       "      <td>Long Branch</td>\n",
       "      <td>635 Wall St</td>\n",
       "      <td>4</td>\n",
       "      <td>0</td>\n",
       "      <td>http://www.nj.com/monmouth/index.ssf/2018/01/t...</td>\n",
       "    </tr>\n",
       "    <tr>\n",
       "      <th>3</th>\n",
       "      <td>1015666</td>\n",
       "      <td>December 27, 2017</td>\n",
       "      <td>Nevada</td>\n",
       "      <td>Las Vegas</td>\n",
       "      <td>3750 E Bonanza Rd</td>\n",
       "      <td>2</td>\n",
       "      <td>2</td>\n",
       "      <td>https://lasvegassun.com/news/2017/dec/28/calif...</td>\n",
       "    </tr>\n",
       "    <tr>\n",
       "      <th>4</th>\n",
       "      <td>1015336</td>\n",
       "      <td>December 26, 2017</td>\n",
       "      <td>Florida</td>\n",
       "      <td>Miami</td>\n",
       "      <td>NW 18th Ave and 86th Ter</td>\n",
       "      <td>0</td>\n",
       "      <td>5</td>\n",
       "      <td>http://wsvn.com/news/local/5-hospitalized-afte...</td>\n",
       "    </tr>\n",
       "    <tr>\n",
       "      <th>5</th>\n",
       "      <td>1013983</td>\n",
       "      <td>December 24, 2017</td>\n",
       "      <td>Mississippi</td>\n",
       "      <td>Vicksburg</td>\n",
       "      <td>1111 Mulberry Street</td>\n",
       "      <td>0</td>\n",
       "      <td>5</td>\n",
       "      <td>http://deltadailynews.com/downtown-vicksburg-s...</td>\n",
       "    </tr>\n",
       "    <tr>\n",
       "      <th>...</th>\n",
       "      <td>...</td>\n",
       "      <td>...</td>\n",
       "      <td>...</td>\n",
       "      <td>...</td>\n",
       "      <td>...</td>\n",
       "      <td>...</td>\n",
       "      <td>...</td>\n",
       "      <td>...</td>\n",
       "    </tr>\n",
       "    <tr>\n",
       "      <th>341</th>\n",
       "      <td>742542</td>\n",
       "      <td>January 4, 2017</td>\n",
       "      <td>California</td>\n",
       "      <td>Fontana</td>\n",
       "      <td>14520 Village Drive</td>\n",
       "      <td>3</td>\n",
       "      <td>1</td>\n",
       "      <td>http://www.fresnobee.com/news/local/crime/arti...</td>\n",
       "    </tr>\n",
       "    <tr>\n",
       "      <th>342</th>\n",
       "      <td>742001</td>\n",
       "      <td>January 3, 2017</td>\n",
       "      <td>Texas</td>\n",
       "      <td>Allen</td>\n",
       "      <td>500 block of Hawthorne Drive</td>\n",
       "      <td>0</td>\n",
       "      <td>4</td>\n",
       "      <td>http://www.star-telegram.com/news/local/crime/...</td>\n",
       "    </tr>\n",
       "    <tr>\n",
       "      <th>343</th>\n",
       "      <td>743282</td>\n",
       "      <td>January 1, 2017</td>\n",
       "      <td>Mississippi</td>\n",
       "      <td>Winstonville</td>\n",
       "      <td>114 North Greyer Street</td>\n",
       "      <td>0</td>\n",
       "      <td>5</td>\n",
       "      <td>http://www.bolivarcommercial.com/newsx/item/54...</td>\n",
       "    </tr>\n",
       "    <tr>\n",
       "      <th>344</th>\n",
       "      <td>739451</td>\n",
       "      <td>January 1, 2017</td>\n",
       "      <td>Texas</td>\n",
       "      <td>Dallas</td>\n",
       "      <td>9220 Skillman Street</td>\n",
       "      <td>1</td>\n",
       "      <td>3</td>\n",
       "      <td>http://www.wfaa.com/news/local/second-death-by...</td>\n",
       "    </tr>\n",
       "    <tr>\n",
       "      <th>345</th>\n",
       "      <td>739766</td>\n",
       "      <td>January 1, 2017</td>\n",
       "      <td>Florida</td>\n",
       "      <td>Miami</td>\n",
       "      <td>8000 block of NW 14th Ave</td>\n",
       "      <td>0</td>\n",
       "      <td>7</td>\n",
       "      <td>http://wsvn.com/news/local/7-injured-in-nw-mia...</td>\n",
       "    </tr>\n",
       "  </tbody>\n",
       "</table>\n",
       "<p>345 rows × 8 columns</p>\n",
       "</div>"
      ],
      "text/plain": [
       "          ID               Date        State   City/County  \\\n",
       "1    1017422  December 31, 2017     Illinois       Chicago   \n",
       "2    1018118  December 31, 2017   New Jersey   Long Branch   \n",
       "3    1015666  December 27, 2017       Nevada     Las Vegas   \n",
       "4    1015336  December 26, 2017      Florida         Miami   \n",
       "5    1013983  December 24, 2017  Mississippi     Vicksburg   \n",
       "..       ...                ...          ...           ...   \n",
       "341   742542    January 4, 2017   California       Fontana   \n",
       "342   742001    January 3, 2017        Texas         Allen   \n",
       "343   743282    January 1, 2017  Mississippi  Winstonville   \n",
       "344   739451    January 1, 2017        Texas        Dallas   \n",
       "345   739766    January 1, 2017      Florida         Miami   \n",
       "\n",
       "                          Address  Killed  Injured  \\\n",
       "1                  2335 Howard St       0        4   \n",
       "2                     635 Wall St       4        0   \n",
       "3               3750 E Bonanza Rd       2        2   \n",
       "4        NW 18th Ave and 86th Ter       0        5   \n",
       "5            1111 Mulberry Street       0        5   \n",
       "..                            ...     ...      ...   \n",
       "341           14520 Village Drive       3        1   \n",
       "342  500 block of Hawthorne Drive       0        4   \n",
       "343       114 North Greyer Street       0        5   \n",
       "344          9220 Skillman Street       1        3   \n",
       "345     8000 block of NW 14th Ave       0        7   \n",
       "\n",
       "                                                Source  \n",
       "1    https://chicago.suntimes.com/news/3-wounded-1-...  \n",
       "2    http://www.nj.com/monmouth/index.ssf/2018/01/t...  \n",
       "3    https://lasvegassun.com/news/2017/dec/28/calif...  \n",
       "4    http://wsvn.com/news/local/5-hospitalized-afte...  \n",
       "5    http://deltadailynews.com/downtown-vicksburg-s...  \n",
       "..                                                 ...  \n",
       "341  http://www.fresnobee.com/news/local/crime/arti...  \n",
       "342  http://www.star-telegram.com/news/local/crime/...  \n",
       "343  http://www.bolivarcommercial.com/newsx/item/54...  \n",
       "344  http://www.wfaa.com/news/local/second-death-by...  \n",
       "345  http://wsvn.com/news/local/7-injured-in-nw-mia...  \n",
       "\n",
       "[345 rows x 8 columns]"
      ]
     },
     "execution_count": 2,
     "metadata": {},
     "output_type": "execute_result"
    }
   ],
   "source": [
    "data = pd.read_csv('complete_project_dataset',index_col=0)\n",
    "\n",
    "data_2014 = data[0:269]\n",
    "data_2015 = data[270:604]\n",
    "data_2016 = data[605:986]\n",
    "data_2017 = data[987:1332]\n",
    "data_2018 = data[1333:1668]\n",
    "data_2019 = data[1669:2085]\n",
    "\n",
    "data_2017"
   ]
  },
  {
   "cell_type": "code",
   "execution_count": 3,
   "metadata": {},
   "outputs": [],
   "source": [
    "dates = []\n",
    "num_killed = []\n",
    "num_injured = []\n",
    "\n",
    "for row in range(len(data)):\n",
    "    x = datetime.datetime.strptime(data.iloc[row,1],\"%B %d, %Y\")\n",
    "    if x in dates:\n",
    "        num_killed[len(num_killed)-1]+= data.iloc[row,5]\n",
    "        num_injured[len(num_injured)-1]+= data.iloc[row,6]\n",
    "    else:\n",
    "        dates.append(x)\n",
    "        num_killed.append(data.iloc[row,5])\n",
    "        num_injured.append(data.iloc[row,6])\n",
    "        "
   ]
  },
  {
   "cell_type": "code",
   "execution_count": 4,
   "metadata": {},
   "outputs": [
    {
     "data": {
      "image/png": "[encoded data removed]",
      "text/plain": [
       "<Figure size 432x288 with 1 Axes>"
      ]
     },
     "metadata": {
      "needs_background": "light"
     },
     "output_type": "display_data"
    }
   ],
   "source": [
    "plt.plot(dates, num_injured, label = \"People Injured\")\n",
    "plt.plot(dates, num_killed, label = \"People Killed\")\n",
    "\n",
    "# naming the x axis\n",
    "plt.xlabel('Dates')\n",
    "# naming the y axis\n",
    "plt.ylabel('Number of People')\n",
    "# giving a title to my graph\n",
    "plt.title('Number of People Killed or Injured by Guns')\n",
    "  \n",
    "# show a legend on the plot\n",
    "plt.legend()\n",
    "  \n",
    "# function to show the plot\n",
    "plt.show()"
   ]
  },
  {
   "cell_type": "code",
   "execution_count": 5,
   "metadata": {},
   "outputs": [
    {
     "name": "stdout",
     "output_type": "stream",
     "text": [
      "  statistic  Number Killed  Number Injured\n",
      "0      mean       1.952736        7.290216\n",
      "1    median       1.000000        5.000000\n",
      "2      mode       0.000000        4.000000\n",
      "3       std       3.285768       13.786708\n",
      "4       min       0.000000        0.000000\n",
      "5       max      62.000000      443.000000\n"
     ]
    }
   ],
   "source": [
    "d = {'statistic' : ['mean','median','mode','std','min','max'], \n",
    "     'Number Killed' : [np.mean(num_killed),np.median(num_killed),statistics.mode(num_killed),np.std(num_killed),min(num_killed),max(num_killed)],\n",
    "    'Number Injured' : [np.mean(num_injured),np.median(num_injured),statistics.mode(num_injured),np.std(num_injured),min(num_injured),max(num_injured)]\n",
    "    }\n",
    "\n",
    "stats_of_the_data = pd.DataFrame(data = d)\n",
    "print(stats_of_the_data)"
   ]
  },
  {
   "cell_type": "markdown",
   "metadata": {},
   "source": [
    "Analaysis Method Outlines: NLP and Sentiment Analysis Classification"
   ]
  },
  {
   "cell_type": "markdown",
   "metadata": {},
   "source": [
    "NLP Analysis: We wanted to use Natural Language Processing to inspect the relations of words in the articles we find, in the hopes that we can relate fequency of word use and the context that these fequently used words are in to the increase of gun violence in America. To start this the article text extracted must be tokenized (sorted into words), remove the words and punctuation that are too common to be useful, and assess the frequency of the cleaned words. Then ngrams are created of these words to assess the context that the frequent words come in. \n",
    "\n",
    "What remains to be done is connect these results to collective meaning about the articles, and how that relates to gun violence. "
   ]
  },
  {
   "cell_type": "code",
   "execution_count": 6,
   "metadata": {},
   "outputs": [
    {
     "name": "stdout",
     "output_type": "stream",
     "text": [
      "[('said', 7104), ('police', 6228), ('shooting', 4410), ('shot', 3082), ('year', 2999), ('people', 2895), ('old', 2724), ('man', 2187), ('victims', 1512), ('according', 1478)]\n"
     ]
    }
   ],
   "source": [
    "import nltk\n",
    "from nltk import FreqDist\n",
    "from nltk.tokenize import RegexpTokenizer\n",
    "from nltk.corpus import stopwords\n",
    "\n",
    "articletextfile = open(\"articletext\", encoding='utf-8')\n",
    "articlestring = articletextfile.read()\n",
    "articletextfile.close()\n",
    "\n",
    "#need to tokenize the article text\n",
    "tokenizer = RegexpTokenizer(r'\\w+')\n",
    "articletext = tokenizer.tokenize(articlestring)\n",
    "\n",
    "#need to remove stopwords and punctuation\n",
    "stopwords = nltk.corpus.stopwords.words('english')\n",
    "capstopwords = [w.title() for w in stopwords]\n",
    "numbers = [\"one\", \"two\", \"three\", \"four\", \"five\", \"six\", \"seven\", \"eight\", \"nine\", \"zero\"]\n",
    "stopwords.extend(capstopwords)\n",
    "stopwords.extend(numbers)\n",
    "articletext = [word.lower() for word in articletext if word not in stopwords]\n",
    "\n",
    "#finds most common words\n",
    "frequency_dist = FreqDist(articletext)\n",
    "keywordstuple = frequency_dist.most_common(10)\n",
    "keywords = []\n",
    "for wordtuple in keywordstuple:\n",
    "    keywords.append(wordtuple[0])\n",
    "print(keywordstuple)"
   ]
  },
  {
   "cell_type": "code",
   "execution_count": 7,
   "metadata": {},
   "outputs": [],
   "source": [
    "#ngram analysis of text\n",
    "bigrams = nltk.bigrams(articletext)\n",
    "trigrams = nltk.trigrams(articletext)\n",
    "bigramlist = list(bigrams)\n",
    "trigramlist = list(trigrams)\n",
    "#need to find the keywords in the ngrams\n",
    "keywordbigrams = [word_tuple for word_tuple in bigramlist if ((word_tuple[0] in keywords) | (word_tuple[1] in keywords))]\n",
    "keywordtrigrams = [word_tuple for word_tuple in trigramlist if ((word_tuple[0] in keywords) | (word_tuple[1] in keywords) | (word_tuple[2] in keywords))]\n",
    "#"
   ]
  },
  {
   "cell_type": "markdown",
   "metadata": {},
   "source": [
    "Sentiment Analysis: Our second kind of analysis for the article is going to be sentiment analysis classification. We created a classification model that trains on a library of tweets that are rated from 0 through 4 on a negative-positive scale. The tweet is vectorized into features and its rating. "
   ]
  },
  {
   "cell_type": "code",
   "execution_count": 41,
   "metadata": {},
   "outputs": [],
   "source": [
    "import pandas as pd\n",
    "import numpy as np\n",
    "import re\n",
    "import matplotlib.pyplot as plt\n",
    "from sklearn.model_selection import train_test_split\n",
    "try:\n",
    "    from gensim.models import Word2Vec\n",
    "except Exception as e:\n",
    "    pass\n",
    "from collections import Counter\n",
    "\n",
    "import nltk\n",
    "#nltk.download('all')"
   ]
  },
  {
   "cell_type": "markdown",
   "metadata": {},
   "source": [
    "Importing and trimming twitter sentiment dataset\n",
    "\n",
    "Insert header, remove numbers, usernames, and NO_QUERY\n",
    "\n",
    "Move first row that became header down to data, add headers"
   ]
  },
  {
   "cell_type": "code",
   "execution_count": 42,
   "metadata": {},
   "outputs": [
    {
     "data": {
      "text/html": [
       "<div>\n",
       "<style scoped>\n",
       "    .dataframe tbody tr th:only-of-type {\n",
       "        vertical-align: middle;\n",
       "    }\n",
       "\n",
       "    .dataframe tbody tr th {\n",
       "        vertical-align: top;\n",
       "    }\n",
       "\n",
       "    .dataframe thead th {\n",
       "        text-align: right;\n",
       "    }\n",
       "</style>\n",
       "<table border=\"1\" class=\"dataframe\">\n",
       "  <thead>\n",
       "    <tr style=\"text-align: right;\">\n",
       "      <th></th>\n",
       "      <th>score</th>\n",
       "      <th>datetime</th>\n",
       "      <th>tweet</th>\n",
       "    </tr>\n",
       "  </thead>\n",
       "  <tbody>\n",
       "    <tr>\n",
       "      <th>0</th>\n",
       "      <td>0</td>\n",
       "      <td>Mon Apr 06 22:19:45 PDT 2009</td>\n",
       "      <td>@switchfoot http://twitpic.com/2y1zl - Awww, t...</td>\n",
       "    </tr>\n",
       "    <tr>\n",
       "      <th>1</th>\n",
       "      <td>0</td>\n",
       "      <td>Mon Apr 06 22:19:49 PDT 2009</td>\n",
       "      <td>is upset that he can't update his Facebook by ...</td>\n",
       "    </tr>\n",
       "    <tr>\n",
       "      <th>2</th>\n",
       "      <td>0</td>\n",
       "      <td>Mon Apr 06 22:19:53 PDT 2009</td>\n",
       "      <td>@Kenichan I dived many times for the ball. Man...</td>\n",
       "    </tr>\n",
       "    <tr>\n",
       "      <th>3</th>\n",
       "      <td>0</td>\n",
       "      <td>Mon Apr 06 22:19:57 PDT 2009</td>\n",
       "      <td>my whole body feels itchy and like its on fire</td>\n",
       "    </tr>\n",
       "    <tr>\n",
       "      <th>4</th>\n",
       "      <td>0</td>\n",
       "      <td>Mon Apr 06 22:19:57 PDT 2009</td>\n",
       "      <td>@nationwideclass no, it's not behaving at all....</td>\n",
       "    </tr>\n",
       "  </tbody>\n",
       "</table>\n",
       "</div>"
      ],
      "text/plain": [
       "   score                      datetime  \\\n",
       "0      0  Mon Apr 06 22:19:45 PDT 2009   \n",
       "1      0  Mon Apr 06 22:19:49 PDT 2009   \n",
       "2      0  Mon Apr 06 22:19:53 PDT 2009   \n",
       "3      0  Mon Apr 06 22:19:57 PDT 2009   \n",
       "4      0  Mon Apr 06 22:19:57 PDT 2009   \n",
       "\n",
       "                                               tweet  \n",
       "0  @switchfoot http://twitpic.com/2y1zl - Awww, t...  \n",
       "1  is upset that he can't update his Facebook by ...  \n",
       "2  @Kenichan I dived many times for the ball. Man...  \n",
       "3    my whole body feels itchy and like its on fire   \n",
       "4  @nationwideclass no, it's not behaving at all....  "
      ]
     },
     "execution_count": 42,
     "metadata": {},
     "output_type": "execute_result"
    }
   ],
   "source": [
    "df = pd.read_csv('training.1600000.processed.noemoticon.csv',encoding = \"ISO-8859-1\",names=[\"score\",\"id\",\"datetime\",\"NO_QUERY\",\"usernames\",\"tweet\"])\n",
    "\n",
    "df = df.drop(['id','NO_QUERY','usernames'],axis=1)\n",
    "\n",
    "df.head()"
   ]
  },
  {
   "cell_type": "markdown",
   "metadata": {},
   "source": [
    "Checking count values, dataset listed from 0 = negative to 4 = positive. "
   ]
  },
  {
   "cell_type": "code",
   "execution_count": 63,
   "metadata": {},
   "outputs": [
    {
     "name": "stdout",
     "output_type": "stream",
     "text": [
      "(20000, 3)\n",
      "neg    20000\n",
      "Name: score, dtype: int64\n"
     ]
    }
   ],
   "source": [
    "df = df.iloc[0:20000, :]\n",
    "print(df.shape)\n",
    "print(df['score'].value_counts())"
   ]
  },
  {
   "cell_type": "markdown",
   "metadata": {},
   "source": [
    "Clean up links, @users, hastags"
   ]
  },
  {
   "cell_type": "code",
   "execution_count": 64,
   "metadata": {},
   "outputs": [],
   "source": [
    "stopwords = nltk.corpus.stopwords.words(\"english\")\n",
    "\n",
    "def cleanup(text):\n",
    "    clean = re.sub(\"(@[A-Za-z0-9]+)|([^0-9A-Za-z \\t])|(\\w+:\\/\\/\\S+)\",\" \",str(text)).split()\n",
    "    tokens = []\n",
    "    for token in clean:\n",
    "        if token not in stopwords:\n",
    "            tokens.append(token)\n",
    "    return tokens"
   ]
  },
  {
   "cell_type": "code",
   "execution_count": 65,
   "metadata": {},
   "outputs": [
    {
     "data": {
      "text/html": [
       "<div>\n",
       "<style scoped>\n",
       "    .dataframe tbody tr th:only-of-type {\n",
       "        vertical-align: middle;\n",
       "    }\n",
       "\n",
       "    .dataframe tbody tr th {\n",
       "        vertical-align: top;\n",
       "    }\n",
       "\n",
       "    .dataframe thead th {\n",
       "        text-align: right;\n",
       "    }\n",
       "</style>\n",
       "<table border=\"1\" class=\"dataframe\">\n",
       "  <thead>\n",
       "    <tr style=\"text-align: right;\">\n",
       "      <th></th>\n",
       "      <th>score</th>\n",
       "      <th>datetime</th>\n",
       "      <th>tweet</th>\n",
       "    </tr>\n",
       "  </thead>\n",
       "  <tbody>\n",
       "    <tr>\n",
       "      <th>0</th>\n",
       "      <td>neg</td>\n",
       "      <td>Mon Apr 06 22:19:45 PDT 2009</td>\n",
       "      <td>[Awww, bummer, You, shoulda, got, David, Carr,...</td>\n",
       "    </tr>\n",
       "    <tr>\n",
       "      <th>1</th>\n",
       "      <td>neg</td>\n",
       "      <td>Mon Apr 06 22:19:49 PDT 2009</td>\n",
       "      <td>[upset, update, Facebook, texting, might, cry,...</td>\n",
       "    </tr>\n",
       "    <tr>\n",
       "      <th>2</th>\n",
       "      <td>neg</td>\n",
       "      <td>Mon Apr 06 22:19:53 PDT 2009</td>\n",
       "      <td>[I, dived, many, times, ball, Managed, save, 5...</td>\n",
       "    </tr>\n",
       "    <tr>\n",
       "      <th>3</th>\n",
       "      <td>neg</td>\n",
       "      <td>Mon Apr 06 22:19:57 PDT 2009</td>\n",
       "      <td>[whole, body, feels, itchy, like, fire]</td>\n",
       "    </tr>\n",
       "    <tr>\n",
       "      <th>4</th>\n",
       "      <td>neg</td>\n",
       "      <td>Mon Apr 06 22:19:57 PDT 2009</td>\n",
       "      <td>[behaving, mad, I, see]</td>\n",
       "    </tr>\n",
       "  </tbody>\n",
       "</table>\n",
       "</div>"
      ],
      "text/plain": [
       "  score                      datetime  \\\n",
       "0   neg  Mon Apr 06 22:19:45 PDT 2009   \n",
       "1   neg  Mon Apr 06 22:19:49 PDT 2009   \n",
       "2   neg  Mon Apr 06 22:19:53 PDT 2009   \n",
       "3   neg  Mon Apr 06 22:19:57 PDT 2009   \n",
       "4   neg  Mon Apr 06 22:19:57 PDT 2009   \n",
       "\n",
       "                                               tweet  \n",
       "0  [Awww, bummer, You, shoulda, got, David, Carr,...  \n",
       "1  [upset, update, Facebook, texting, might, cry,...  \n",
       "2  [I, dived, many, times, ball, Managed, save, 5...  \n",
       "3            [whole, body, feels, itchy, like, fire]  \n",
       "4                            [behaving, mad, I, see]  "
      ]
     },
     "execution_count": 65,
     "metadata": {},
     "output_type": "execute_result"
    }
   ],
   "source": [
    "df['tweet'] = df['tweet'].apply(lambda x: cleanup(x))\n",
    "\n",
    "df['score'] = df['score'].replace([0,4],['neg','pos'])\n",
    "\n",
    "df.head()"
   ]
  },
  {
   "cell_type": "code",
   "execution_count": 66,
   "metadata": {},
   "outputs": [],
   "source": [
    "def to_tuple(x):\n",
    "    subset = x[['tweet','score']]\n",
    "    tuples = [tuple(i) for i in subset.to_numpy()]\n",
    "    return tuples"
   ]
  },
  {
   "cell_type": "code",
   "execution_count": 67,
   "metadata": {},
   "outputs": [
    {
     "data": {
      "text/plain": [
       "(['Awww',\n",
       "  'bummer',\n",
       "  'You',\n",
       "  'shoulda',\n",
       "  'got',\n",
       "  'David',\n",
       "  'Carr',\n",
       "  'Third',\n",
       "  'Day',\n",
       "  'D'],\n",
       " 'neg')"
      ]
     },
     "execution_count": 67,
     "metadata": {},
     "output_type": "execute_result"
    }
   ],
   "source": [
    "documents = to_tuple(df)\n",
    "documents[0]"
   ]
  },
  {
   "cell_type": "code",
   "execution_count": 68,
   "metadata": {},
   "outputs": [],
   "source": [
    "def word_master(x):\n",
    "    master_list = []\n",
    "    for i in range(len(x)):\n",
    "        master_list += x['tweet'][i]\n",
    "    return master_list\n",
    "\n",
    "words = word_master(df)"
   ]
  },
  {
   "cell_type": "code",
   "execution_count": 69,
   "metadata": {},
   "outputs": [
    {
     "data": {
      "text/plain": [
       "['i', 'work', 'go', 'get', 'day']"
      ]
     },
     "execution_count": 69,
     "metadata": {},
     "output_type": "execute_result"
    }
   ],
   "source": [
    "def word_master(x):\n",
    "    master_list = []\n",
    "    for i in range(len(x)):\n",
    "        master_list += x['tweet'][i]\n",
    "    return master_list\n",
    "\n",
    "words = word_master(df)\n",
    "\n",
    "word_features = nltk.FreqDist(w.lower() for w in words).most_common(2000)\n",
    "word_features =  [word_tuple[0] for word_tuple in word_features]\n",
    "word_features[0:5]"
   ]
  },
  {
   "cell_type": "code",
   "execution_count": 70,
   "metadata": {},
   "outputs": [],
   "source": [
    "def document_features(document):    \n",
    "    document_words = set(document)\n",
    "    features = {}\n",
    "    for word in word_features:\n",
    "        features['contains('+ word +')'] = (word in document_words)\n",
    "    return features\n",
    "\n",
    "featuresets = [(document_features(d), c) for (d,c) in documents]"
   ]
  },
  {
   "cell_type": "markdown",
   "metadata": {},
   "source": [
    "The words as feature vectors have been computed, this then establishes the training and test sets. Then runs the classification model on the test set. \n",
    "\n",
    "What remains to be done here is test the model on the article data which also needs to be turned into feature vectors. "
   ]
  },
  {
   "cell_type": "code",
   "execution_count": 71,
   "metadata": {},
   "outputs": [
    {
     "name": "stdout",
     "output_type": "stream",
     "text": [
      "1.0\n",
      "Most Informative Features\n"
     ]
    }
   ],
   "source": [
    "train_set, test_set = featuresets[100:], featuresets[:100]\n",
    "classifier = nltk.NaiveBayesClassifier.train(train_set)\n",
    "\n",
    "print(nltk.classify.accuracy(classifier, test_set))\n",
    "\n",
    "classifier.show_most_informative_features(10)"
   ]
  }
 ],
 "metadata": {
  "kernelspec": {
   "display_name": "Python 3",
   "language": "python",
   "name": "python3"
  },
  "language_info": {
   "codemirror_mode": {
    "name": "ipython",
    "version": 3
   },
   "file_extension": ".py",
   "mimetype": "text/x-python",
   "name": "python",
   "nbconvert_exporter": "python",
   "pygments_lexer": "ipython3",
   "version": "3.8.5"
  }
 },
 "nbformat": 4,
 "nbformat_minor": 4
}
